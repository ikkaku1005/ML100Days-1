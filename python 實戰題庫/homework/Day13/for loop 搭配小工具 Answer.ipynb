{
 "cells": [
  {
   "cell_type": "markdown",
   "metadata": {
    "id": "P6xk2_jLsvFF"
   },
   "source": [
    "# [作業目標]\n",
    "\n",
    "\n",
    "1. 請將一個字典的 Key 和 Value 對調，例如：\n",
    "\n",
    "  * 輸入：{\"name\": \"qiwsir\", \"site\": \"qiwsir.github.io\", \"lang\": \"python\"}\n",
    "  * 輸出：{\"qiwsir\": \"name\", \"qiwsir.github.io\": \"site\", \"python\": \"lang\"}\n",
    "\n",
    "\n",
    "2. 有兩個由 Dictionary 所組成的 List，請問如何依照相同 index 合併成一個 List。\n",
    "\n",
    "\n"
   ]
  },
  {
   "cell_type": "markdown",
   "metadata": {
    "id": "uXGll28asvFS"
   },
   "source": [
    "# 作業 "
   ]
  },
  {
   "cell_type": "markdown",
   "metadata": {
    "id": "5EuFjUvwBBeO"
   },
   "source": [
    "### 1. 請將一個字典的 Key 和 Value 對調，例如：\n",
    "\n",
    "* 輸入：{\"name\": \"qiwsir\", \"site\": \"qiwsir.github.io\", \"lang\": \"python\"}\n",
    "* 輸出：{\"qiwsir\": \"name\", \"qiwsir.github.io\": \"site\", \"python\": \"lang\"}"
   ]
  },
  {
   "cell_type": "code",
   "execution_count": 6,
   "metadata": {
    "id": "jsS7JEAFBBeO"
   },
   "outputs": [
    {
     "name": "stdout",
     "output_type": "stream",
     "text": [
      "{'qiwsir': 'name', 'qiwsir.github.io': 'site', 'python': 'lang'}\n"
     ]
    }
   ],
   "source": [
    "d = {\"name\": \"qiwsir\", \"site\": \"qiwsir.github.io\", \"lang\": \"python\"}\n",
    "\n",
    "print(dict(zip(d.values(), d.keys())))"
   ]
  },
  {
   "cell_type": "markdown",
   "metadata": {
    "id": "vAOXJMPWBBeP"
   },
   "source": [
    "### 2. 有兩個由 Dictionary 所組成的 List，請問如何依照相同 index 合併成一個 List。"
   ]
  },
  {
   "cell_type": "code",
   "execution_count": 11,
   "metadata": {
    "id": "wJYQZ8arBBeP"
   },
   "outputs": [
    {
     "name": "stdout",
     "output_type": "stream",
     "text": [
      "[{'name': 'Mark', 'sex': 'male'}, {'name': 'Mary', 'sex': 'female'}]\n",
      "[{'name': 'Mark', 'sex': 'male', 'age': 16}, {'name': 'Mary', 'sex': 'female', 'age': 18}]\n"
     ]
    }
   ],
   "source": [
    "# 解法一\n",
    "\n",
    "a = [{'name': 'Mark', 'sex': 'male'}, {'name': 'Mary', 'sex': 'female'}]\n",
    "b = [{'age': 16}, {'age': 18}]\n",
    "L = []\n",
    "\n",
    "\n",
    "L = [dict(list(i.items()) + list(j.items())) for i, j in zip(a, b)]\n",
    "\n",
    "\n",
    "print(L) # [{'name': 'Mark', 'sex': 'male', 'age': 16}, {'name': 'Mary', 'sex': 'female', 'age': 18}]"
   ]
  },
  {
   "cell_type": "code",
   "execution_count": 18,
   "metadata": {},
   "outputs": [
    {
     "name": "stdout",
     "output_type": "stream",
     "text": [
      "dict_items([('name', 'Mark'), ('sex', 'male')])\n",
      "[('name', 'Mark'), ('sex', 'male')]\n",
      "{'name': 'Mark', 'sex': 'male'}\n"
     ]
    }
   ],
   "source": [
    "print(a[0].items())\n",
    "print(list(a[0].items()))  # 轉換成list 有序物件\n",
    "print(dict(list(a[0].items())))"
   ]
  },
  {
   "cell_type": "code",
   "execution_count": 12,
   "metadata": {},
   "outputs": [
    {
     "name": "stdout",
     "output_type": "stream",
     "text": [
      "[{'name': 'Mark', 'sex': 'male', 'age': 16}, {'name': 'Mary', 'sex': 'female', 'age': 18}]\n"
     ]
    }
   ],
   "source": [
    "# 解法二\n",
    "\n",
    "a = [{'name': 'Mark', 'sex': 'male'}, {'name': 'Mary', 'sex': 'female'}]\n",
    "b = [{'age': 16}, {'age': 18}]\n",
    "L = []\n",
    "\n",
    "L = [dict(list(a[i].items()) + list(b[i].items())) for i, _ in enumerate(a)]\n",
    "    \n",
    "\n",
    "print(L) # [{'name': 'Mark', 'sex': 'male', 'age': 16}, {'name': 'Mary', 'sex': 'female', 'age': 18}]"
   ]
  },
  {
   "cell_type": "code",
   "execution_count": null,
   "metadata": {},
   "outputs": [],
   "source": []
  },
  {
   "cell_type": "code",
   "execution_count": null,
   "metadata": {
    "id": "d9vRXc5FBCJO"
   },
   "outputs": [],
   "source": []
  }
 ],
 "metadata": {
  "colab": {
   "name": "13 Answer.ipynb",
   "provenance": []
  },
  "kernelspec": {
   "display_name": "Python 3",
   "language": "python",
   "name": "python3"
  },
  "language_info": {
   "codemirror_mode": {
    "name": "ipython",
    "version": 3
   },
   "file_extension": ".py",
   "mimetype": "text/x-python",
   "name": "python",
   "nbconvert_exporter": "python",
   "pygments_lexer": "ipython3",
   "version": "3.7.6"
  }
 },
 "nbformat": 4,
 "nbformat_minor": 1
}
