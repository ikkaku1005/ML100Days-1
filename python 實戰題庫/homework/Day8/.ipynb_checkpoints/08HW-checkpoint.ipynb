{
 "cells": [
  {
   "cell_type": "markdown",
   "metadata": {},
   "source": [
    "1. 完成 (1) 計算平方 和 (2) 計算平方根 的函式\n",
    "\n",
    "2. 寫一個回傳 n! 的函式"
   ]
  },
  {
   "cell_type": "code",
   "execution_count": 7,
   "metadata": {},
   "outputs": [
    {
     "name": "stdout",
     "output_type": "stream",
     "text": [
      "請輸入一個數值:6\n",
      "x的平方為: 36\n"
     ]
    }
   ],
   "source": [
    "#1完成 (1) 計算平方 和 (2) 計算平方根 的函式\n",
    "#計算平方\n",
    "\n",
    "def sqrt(x):\n",
    "    print(\"x的平方為:\",x**2)\n",
    "    return \n",
    "sqrt(int(input(\"請輸入一個數值:\")))"
   ]
  },
  {
   "cell_type": "code",
   "execution_count": 11,
   "metadata": {},
   "outputs": [
    {
     "name": "stdout",
     "output_type": "stream",
     "text": [
      "請輸入一個數值:6\n",
      "x的平方根為: 2.449489742783178\n"
     ]
    }
   ],
   "source": [
    "#計算平方根 的函式\n",
    "def root(x):\n",
    "    print(\"x的平方根為:\", x**(1/2))\n",
    "    return \n",
    "root(int(input(\"請輸入一個數值:\")))"
   ]
  },
  {
   "cell_type": "code",
   "execution_count": 26,
   "metadata": {},
   "outputs": [
    {
     "name": "stdout",
     "output_type": "stream",
     "text": [
      "請輸入一個數值:5\n",
      "('5 的階層為:', 120)\n"
     ]
    }
   ],
   "source": [
    "#寫一個回傳 n! 的函式\n",
    "def factorial(x):\n",
    "    \n",
    "    y = 1\n",
    "    for i in range(1,x+1):\n",
    "        y = i * y \n",
    "    return (\"%s 的階層為:\" % x) , y\n",
    "print(factorial(int(input(\"請輸入一個數值:\"))))\n"
   ]
  },
  {
   "cell_type": "code",
   "execution_count": 27,
   "metadata": {},
   "outputs": [
    {
     "name": "stdout",
     "output_type": "stream",
     "text": [
      "請輸入一個數值:4\n",
      "('4 的階層為:', 24)\n"
     ]
    }
   ],
   "source": [
    "def factorial(x):\n",
    "    i = 1\n",
    "    y = 1\n",
    "    while i <= x:\n",
    "        y = y * i\n",
    "        i = i +1\n",
    "    return (\"%s 的階層為:\" % x) , y\n",
    "print(factorial(int(input(\"請輸入一個數值:\"))))"
   ]
  },
  {
   "cell_type": "code",
   "execution_count": null,
   "metadata": {},
   "outputs": [],
   "source": []
  }
 ],
 "metadata": {
  "kernelspec": {
   "display_name": "Python 3",
   "language": "python",
   "name": "python3"
  },
  "language_info": {
   "codemirror_mode": {
    "name": "ipython",
    "version": 3
   },
   "file_extension": ".py",
   "mimetype": "text/x-python",
   "name": "python",
   "nbconvert_exporter": "python",
   "pygments_lexer": "ipython3",
   "version": "3.7.6"
  }
 },
 "nbformat": 4,
 "nbformat_minor": 4
}
