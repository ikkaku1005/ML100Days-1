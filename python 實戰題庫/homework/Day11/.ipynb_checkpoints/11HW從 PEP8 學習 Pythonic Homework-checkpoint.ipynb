{
 "cells": [
  {
   "cell_type": "markdown",
   "metadata": {
    "colab_type": "text",
    "id": "P6xk2_jLsvFF"
   },
   "source": [
    "# [作業目標]\n",
    "\n",
    "\n",
    "1. [簡答題] 請問 PEP8 為何要建議採用「四個空格的方式縮排」，而不是 Tab 或是兩個空格？\n",
    "\n",
    "2. [簡答題] 請閱讀 PEP8 文件後，分享三個你覺得印象最深刻的部分？\n",
    "\n"
   ]
  },
  {
   "cell_type": "markdown",
   "metadata": {
    "colab_type": "text",
    "id": "uXGll28asvFS"
   },
   "source": [
    "# 作業 "
   ]
  },
  {
   "cell_type": "markdown",
   "metadata": {},
   "source": [
    "### 1. [簡答題] 請問 PEP8 為何要建議採用「四個空格的方式縮排」，而不是 Tab 或是兩個空格？"
   ]
  },
  {
   "cell_type": "markdown",
   "metadata": {},
   "source": [
    "始可讀性增加，且不意造成閱讀程式碼混亂"
   ]
  },
  {
   "cell_type": "markdown",
   "metadata": {},
   "source": [
    "### 2. [簡答題] 請閱讀 PEP8 文件後，分享三個你覺得印象最深刻的部分？"
   ]
  },
  {
   "cell_type": "markdown",
   "metadata": {},
   "source": [
    "1.區塊註解 : 以前不知道有這個功能，傻傻的每一行都加 # ， 看到這個功能後，感覺註解更方便了  \n",
    "2.參數排版  \n",
    "3.接續斷行 \\"
   ]
  },
  {
   "cell_type": "code",
   "execution_count": null,
   "metadata": {},
   "outputs": [],
   "source": []
  },
  {
   "cell_type": "code",
   "execution_count": null,
   "metadata": {},
   "outputs": [],
   "source": []
  }
 ],
 "metadata": {
  "colab": {
   "name": "Day_023_HW.ipynb",
   "provenance": []
  },
  "kernelspec": {
   "display_name": "Python 3",
   "language": "python",
   "name": "python3"
  },
  "language_info": {
   "codemirror_mode": {
    "name": "ipython",
    "version": 3
   },
   "file_extension": ".py",
   "mimetype": "text/x-python",
   "name": "python",
   "nbconvert_exporter": "python",
   "pygments_lexer": "ipython3",
   "version": "3.7.6"
  }
 },
 "nbformat": 4,
 "nbformat_minor": 1
}
