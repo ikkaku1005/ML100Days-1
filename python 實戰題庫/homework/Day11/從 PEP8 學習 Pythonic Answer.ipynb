{
 "cells": [
  {
   "cell_type": "markdown",
   "metadata": {
    "colab_type": "text",
    "id": "P6xk2_jLsvFF"
   },
   "source": [
    "# [作業目標]\n",
    "\n",
    "\n",
    "1. [簡答題] 請問 PEP8 為何要建議採用「四個空格的方式縮排」，而不是 Tab 或是兩個空格？\n",
    "\n",
    "2. [簡答題] 請閱讀 PEP8 文件後，分享三個你覺得印象最深刻的部分？\n",
    "\n"
   ]
  },
  {
   "cell_type": "markdown",
   "metadata": {
    "colab_type": "text",
    "id": "uXGll28asvFS"
   },
   "source": [
    "# 作業 "
   ]
  },
  {
   "cell_type": "markdown",
   "metadata": {},
   "source": [
    "### 1. [簡答題] 請問 PEP8 為何要建議採用「四個空格的方式縮排」，而不是 Tab 或是兩個空格？"
   ]
  },
  {
   "cell_type": "code",
   "execution_count": null,
   "metadata": {},
   "outputs": [],
   "source": [
    "因為四個空格的適合英文閱讀的排版，Tab 會因為電腦、編輯器設定而有差異"
   ]
  },
  {
   "cell_type": "markdown",
   "metadata": {},
   "source": [
    "### 2. [簡答題] 請閱讀 PEP8 文件後，分享三個你覺得印象最深刻的部分？"
   ]
  },
  {
   "cell_type": "code",
   "execution_count": null,
   "metadata": {},
   "outputs": [],
   "source": [
    "'''\n",
    "請參考投影片說明\n",
    "'''"
   ]
  }
 ],
 "metadata": {
  "colab": {
   "name": "14 Answer.ipynb",
   "provenance": []
  },
  "kernelspec": {
   "display_name": "Python 3",
   "language": "python",
   "name": "python3"
  },
  "language_info": {
   "codemirror_mode": {
    "name": "ipython",
    "version": 3
   },
   "file_extension": ".py",
   "mimetype": "text/x-python",
   "name": "python",
   "nbconvert_exporter": "python",
   "pygments_lexer": "ipython3",
   "version": "3.6.5"
  }
 },
 "nbformat": 4,
 "nbformat_minor": 1
}
