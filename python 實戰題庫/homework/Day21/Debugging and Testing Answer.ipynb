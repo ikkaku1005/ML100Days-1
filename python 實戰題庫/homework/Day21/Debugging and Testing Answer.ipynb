{
 "cells": [
  {
   "cell_type": "markdown",
   "metadata": {
    "colab_type": "text",
    "id": "P6xk2_jLsvFF"
   },
   "source": [
    "# [作業目標]\n",
    "\n",
    "\n",
    "1. [操作題] 請在電腦中安裝使用「Python 中的除錯模組 pdb」，並且截圖上傳。\n",
    "\n",
    "\n",
    "2. 對「找出 1 ~ 100 質數的函式」進行單元測試，對下列兩個程式進行測試並且側著將錯誤的部分改成正確可以通過測試。\n",
    "\n"
   ]
  },
  {
   "cell_type": "markdown",
   "metadata": {
    "colab_type": "text",
    "id": "uXGll28asvFS"
   },
   "source": [
    "# 作業 "
   ]
  },
  {
   "cell_type": "markdown",
   "metadata": {},
   "source": [
    "### 1. [操作題] 請在電腦中安裝使用「Python 中的除錯模組 pdb」，並且截圖上傳。\n"
   ]
  },
  {
   "cell_type": "code",
   "execution_count": null,
   "metadata": {},
   "outputs": [],
   "source": [
    "'''\n",
    "請參考投影片範例。\n",
    "'''"
   ]
  },
  {
   "cell_type": "markdown",
   "metadata": {},
   "source": [
    "### 2. 對「找出 1 ~ 100 質數的函式」進行單元測試，對下列兩個程式進行測試並且側著將錯誤的部分改成正確可以通過測試。"
   ]
  },
  {
   "cell_type": "code",
   "execution_count": 1,
   "metadata": {},
   "outputs": [],
   "source": [
    "def f1():\n",
    "    L = []\n",
    "    for num in range(1, 100 + 1):\n",
    "        if num > 1:\n",
    "            for i in range(2, num):\n",
    "                if (num % i) == 0:\n",
    "                    break\n",
    "            else:\n",
    "                L.append(num)\n",
    "    return L\n",
    "            \n",
    "def f2():\n",
    "    return [x for x in range(1, 101) if x not in [j for i in range(2, 11) for j in range(2*i, 101, i)]]\n"
   ]
  },
  {
   "cell_type": "code",
   "execution_count": 2,
   "metadata": {},
   "outputs": [
    {
     "name": "stderr",
     "output_type": "stream",
     "text": [
      "test_foo (__main__.TestFoo) ... FAIL\n",
      "\n",
      "======================================================================\n",
      "FAIL: test_foo (__main__.TestFoo)\n",
      "----------------------------------------------------------------------\n",
      "Traceback (most recent call last):\n",
      "  File \"<ipython-input-2-56458f7e2263>\", line 7, in test_foo\n",
      "    self.assertEqual(f2(), expected)\n",
      "AssertionError: Lists differ: [1, 2, 3, 5, 7, 11, 13, 17, 19, 23, 29, 31[52 chars], 97] != [2, 3, 5, 7, 11, 13, 17, 19, 23, 29, 31, 3[49 chars], 97]\n",
      "\n",
      "First differing element 0:\n",
      "1\n",
      "2\n",
      "\n",
      "First list contains 1 additional elements.\n",
      "First extra element 25:\n",
      "97\n",
      "\n",
      "+ [2,\n",
      "- [1,\n",
      "-  2,\n",
      "   3,\n",
      "   5,\n",
      "   7,\n",
      "   11,\n",
      "   13,\n",
      "   17,\n",
      "   19,\n",
      "   23,\n",
      "   29,\n",
      "   31,\n",
      "   37,\n",
      "   41,\n",
      "   43,\n",
      "   47,\n",
      "   53,\n",
      "   59,\n",
      "   61,\n",
      "   67,\n",
      "   71,\n",
      "   73,\n",
      "   79,\n",
      "   83,\n",
      "   89,\n",
      "   97]\n",
      "\n",
      "----------------------------------------------------------------------\n",
      "Ran 1 test in 0.006s\n",
      "\n",
      "FAILED (failures=1)\n"
     ]
    },
    {
     "data": {
      "text/plain": [
       "<unittest.main.TestProgram at 0x1fe978ef488>"
      ]
     },
     "execution_count": 2,
     "metadata": {},
     "output_type": "execute_result"
    }
   ],
   "source": [
    "import unittest\n",
    "\n",
    "class TestFoo(unittest.TestCase):\n",
    "    def test_foo(self):\n",
    "        expected = [2, 3, 5, 7, 11, 13, 17, 19, 23, 29, 31, 37, 41, 43, 47, 53, 59, 61, 67, 71, 73, 79, 83, 89, 97]\n",
    "        self.assertEqual(f1(), expected) \n",
    "        self.assertEqual(f2(), expected) \n",
    "\n",
    "unittest.main(argv=[''], verbosity=2, exit=False)\n"
   ]
  },
  {
   "cell_type": "code",
   "execution_count": 3,
   "metadata": {},
   "outputs": [
    {
     "name": "stderr",
     "output_type": "stream",
     "text": [
      "test_foo (__main__.TestFoo) ... ok\n",
      "\n",
      "----------------------------------------------------------------------\n",
      "Ran 1 test in 0.003s\n",
      "\n",
      "OK\n"
     ]
    },
    {
     "data": {
      "text/plain": [
       "<unittest.main.TestProgram at 0x1fe978fc1c8>"
      ]
     },
     "execution_count": 3,
     "metadata": {},
     "output_type": "execute_result"
    }
   ],
   "source": [
    "'''\n",
    "f2() 的 range 範圍錯誤，應改為 range(2, 101)\n",
    "'''\n",
    "            \n",
    "def f2():\n",
    "    return [x for x in range(2, 101) if x not in [j for i in range(2, 11) for j in range(2*i, 101, i)]]\n",
    "\n",
    "unittest.main(argv=[''], verbosity=2, exit=False)"
   ]
  },
  {
   "cell_type": "code",
   "execution_count": null,
   "metadata": {},
   "outputs": [],
   "source": []
  },
  {
   "cell_type": "code",
   "execution_count": null,
   "metadata": {},
   "outputs": [],
   "source": []
  }
 ],
 "metadata": {
  "colab": {
   "name": "14 Answer.ipynb",
   "provenance": []
  },
  "kernelspec": {
   "display_name": "Python 3",
   "language": "python",
   "name": "python3"
  },
  "language_info": {
   "codemirror_mode": {
    "name": "ipython",
    "version": 3
   },
   "file_extension": ".py",
   "mimetype": "text/x-python",
   "name": "python",
   "nbconvert_exporter": "python",
   "pygments_lexer": "ipython3",
   "version": "3.7.6"
  }
 },
 "nbformat": 4,
 "nbformat_minor": 1
}
