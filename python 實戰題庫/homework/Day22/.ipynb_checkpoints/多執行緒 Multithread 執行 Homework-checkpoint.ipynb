{
 "cells": [
  {
   "cell_type": "markdown",
   "metadata": {
    "colab_type": "text",
    "id": "P6xk2_jLsvFF"
   },
   "source": [
    "# [作業目標]\n",
    "\n",
    "\n",
    "1. 請將給定的爬蟲範例改用多線程改寫，比較前後時間的差異。\n",
    "\n",
    "```\n",
    "import requests\n",
    "import time\n",
    "\n",
    "urls = ['http://python.org', 'http://python.org', 'http://python.org',\n",
    "        'http://python.org', 'http://python.org']\n",
    "\n",
    "for url in urls:\n",
    "    d = requests.get(url)\n",
    "    print(d)\n",
    "```\n",
    "\n"
   ]
  },
  {
   "cell_type": "markdown",
   "metadata": {
    "colab_type": "text",
    "id": "uXGll28asvFS"
   },
   "source": [
    "# 作業 "
   ]
  },
  {
   "cell_type": "markdown",
   "metadata": {},
   "source": [
    "### 1. 請將給定的爬蟲範例改用多線程改寫，比較前後時間的差異。\n",
    "\n",
    "```\n",
    "import requests\n",
    "import time\n",
    "\n",
    "urls = ['http://python.org', 'http://python.org', 'http://python.org',\n",
    "        'http://python.org', 'http://python.org']\n",
    "\n",
    "for url in urls:\n",
    "    d = requests.get(url)\n",
    "    print(d)\n",
    "```"
   ]
  },
  {
   "cell_type": "code",
   "execution_count": 4,
   "metadata": {},
   "outputs": [
    {
     "name": "stdout",
     "output_type": "stream",
     "text": [
      "<Response [200]>\n",
      "<Response [200]>\n",
      "<Response [200]>\n",
      "<Response [200]>\n",
      "<Response [200]>\n",
      "63.95179843902588\n"
     ]
    }
   ],
   "source": [
    "'''\n",
    "Your Code\n",
    "'''\n",
    "import requests\n",
    "import time\n",
    "\n",
    "urls = ['http://python.org', 'http://python.org', 'http://python.org',\n",
    "        'http://python.org', 'http://python.org']\n",
    "\n",
    "startTime = time.time()\n",
    "\n",
    "for url in urls:\n",
    "    d = requests.get(url)\n",
    "    print(d)\n",
    "    \n",
    "finish_time = time.time()\n",
    "print(finish_time - start_time)"
   ]
  },
  {
   "cell_type": "code",
   "execution_count": 5,
   "metadata": {
    "scrolled": true
   },
   "outputs": [
    {
     "name": "stdout",
     "output_type": "stream",
     "text": [
      "0.011003255844116211\n",
      "<Response [200]>\n",
      "<Response [200]><Response [200]>\n",
      "\n",
      "<Response [200]><Response [200]>\n",
      "\n"
     ]
    }
   ],
   "source": [
    "import threading \n",
    "import requests\n",
    "import time\n",
    "\n",
    "urls = ['http://python.org', 'http://python.org', 'http://python.org',\n",
    "        'http://python.org', 'http://python.org']\n",
    "    \n",
    "def job(url):\n",
    "    d = requests.get(url)\n",
    "    print(d)\n",
    "\n",
    "start_time = time.time()\n",
    "\n",
    "for url in urls:\n",
    "    task = threading.Thread( target = job, args = (url, ))\n",
    "    task.start()\n",
    "    \n",
    "finish_time = time.time()\n",
    "print(finish_time - start_time)"
   ]
  },
  {
   "cell_type": "code",
   "execution_count": null,
   "metadata": {},
   "outputs": [],
   "source": []
  },
  {
   "cell_type": "code",
   "execution_count": null,
   "metadata": {},
   "outputs": [],
   "source": []
  }
 ],
 "metadata": {
  "colab": {
   "name": "Day_023_HW.ipynb",
   "provenance": []
  },
  "kernelspec": {
   "display_name": "Python 3",
   "language": "python",
   "name": "python3"
  },
  "language_info": {
   "codemirror_mode": {
    "name": "ipython",
    "version": 3
   },
   "file_extension": ".py",
   "mimetype": "text/x-python",
   "name": "python",
   "nbconvert_exporter": "python",
   "pygments_lexer": "ipython3",
   "version": "3.7.6"
  }
 },
 "nbformat": 4,
 "nbformat_minor": 1
}
