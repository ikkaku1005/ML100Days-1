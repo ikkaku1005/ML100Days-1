{
 "cells": [
  {
   "cell_type": "markdown",
   "metadata": {
    "colab_type": "text",
    "id": "P6xk2_jLsvFF"
   },
   "source": [
    "# [作業目標]\n",
    "\n",
    "\n",
    "1. [簡答題] 請列舉幾個可以用 decorator 或 context 使用的情境？\n",
    "\n",
    "2. 如何使用 decorator 讓程式執行 foo(...) 前執行 a(...)、b(...) 兩段程式：\n",
    "\n",
    "```\n",
    "def a(f):\n",
    "    print('a() is called')\n",
    "    return\n",
    "\n",
    "def b(f):\n",
    "    print('b() is called')\n",
    "    return\n",
    "\n",
    "def f():\n",
    "    return \"hello world\"\n",
    "```\n",
    "\n"
   ]
  },
  {
   "cell_type": "markdown",
   "metadata": {
    "colab_type": "text",
    "id": "uXGll28asvFS"
   },
   "source": [
    "# 作業 "
   ]
  },
  {
   "cell_type": "markdown",
   "metadata": {},
   "source": [
    "### 1. [簡答題] 請列舉幾個可以用 decorator 或 context 使用的情境？\n"
   ]
  },
  {
   "cell_type": "markdown",
   "metadata": {},
   "source": [
    "#### decorator\n",
    "\n",
    "1. 身分驗證\n",
    "2. 格式加工\n",
    "\n",
    "#### context\n",
    "\n",
    "1. 檔案存取\n",
    "2. 資料庫存取"
   ]
  },
  {
   "cell_type": "markdown",
   "metadata": {},
   "source": [
    "### 2. 如何使用 decorator 讓程式執行 foo(...) 前執行 a(...)、b(...) 兩段程式：\n",
    "\n",
    "```\n",
    "def a(f):\n",
    "    print('a() is called')\n",
    "    return\n",
    "\n",
    "def b(f):\n",
    "    print('b() is called')\n",
    "    return\n",
    "\n",
    "def f():\n",
    "    return \"hello world\"\n",
    "```"
   ]
  },
  {
   "cell_type": "code",
   "execution_count": 3,
   "metadata": {},
   "outputs": [
    {
     "name": "stdout",
     "output_type": "stream",
     "text": [
      "a() is called\n",
      "b() is called\n"
     ]
    },
    {
     "data": {
      "text/plain": [
       "'hello world'"
      ]
     },
     "execution_count": 3,
     "metadata": {},
     "output_type": "execute_result"
    }
   ],
   "source": [
    "def a(f):\n",
    "    def wrapped():\n",
    "        print('a() is called')\n",
    "        return f()\n",
    "    return wrapped\n",
    "\n",
    "def b(f):\n",
    "    def wrapped():\n",
    "        print('b() is called')\n",
    "        return f()\n",
    "    return wrapped\n",
    "\n",
    "@a\n",
    "@b\n",
    "def f():\n",
    "    return \"hello world\"\n",
    "\n",
    "f()"
   ]
  },
  {
   "cell_type": "code",
   "execution_count": 16,
   "metadata": {},
   "outputs": [
    {
     "name": "stdout",
     "output_type": "stream",
     "text": [
      "a() is called\n",
      "b() is called\n"
     ]
    }
   ],
   "source": [
    "def a(f):\n",
    "    def wrapped():\n",
    "        print('a() is called')\n",
    "        f()\n",
    "    return wrapped\n",
    "\n",
    "def b(f):\n",
    "    def wrapped():\n",
    "        print('b() is called')\n",
    "        f()\n",
    "    return wrapped\n",
    "\n",
    "@a\n",
    "@b\n",
    "def f():\n",
    "    return \"hello world\"\n",
    "\n",
    "f()"
   ]
  },
  {
   "cell_type": "code",
   "execution_count": null,
   "metadata": {},
   "outputs": [],
   "source": []
  }
 ],
 "metadata": {
  "colab": {
   "name": "14 Answer.ipynb",
   "provenance": []
  },
  "kernelspec": {
   "display_name": "Python 3",
   "language": "python",
   "name": "python3"
  },
  "language_info": {
   "codemirror_mode": {
    "name": "ipython",
    "version": 3
   },
   "file_extension": ".py",
   "mimetype": "text/x-python",
   "name": "python",
   "nbconvert_exporter": "python",
   "pygments_lexer": "ipython3",
   "version": "3.7.6"
  }
 },
 "nbformat": 4,
 "nbformat_minor": 1
}
