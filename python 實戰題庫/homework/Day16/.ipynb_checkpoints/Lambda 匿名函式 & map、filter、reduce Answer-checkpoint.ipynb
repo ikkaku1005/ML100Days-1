{
 "cells": [
  {
   "cell_type": "markdown",
   "metadata": {
    "colab_type": "text",
    "id": "P6xk2_jLsvFF"
   },
   "source": [
    "# [作業目標]\n",
    "\n",
    "\n",
    "1. 請根據給定的列表依序完成下咧操作：\n",
    "\n",
    "    * 1. 利用 map 將原始資料四捨五入\n",
    "    * 2. 利用 filter 挑選出大於 30 的元素\n",
    "    * 3. 利用 reduce 計算總和\n",
    "\n",
    "\n",
    "2. 實作一個 map function，對一個 list 中的每個元素都做相同的操作\n",
    "\n",
    "    * Sample Input 1: L = [1,2,3,4,5,6], F = add1(n)\n",
    "    * Sample Output 1: [2,3,4,5,6,7]\n",
    "    * Sample Input 2: L = [2,3,4,5,6,7], F = isPrime(n)\n",
    "    * Sample Output 2: [True,True,False,True,False,True]\n",
    "\n"
   ]
  },
  {
   "cell_type": "markdown",
   "metadata": {
    "colab_type": "text",
    "id": "uXGll28asvFS"
   },
   "source": [
    "# 作業 "
   ]
  },
  {
   "cell_type": "markdown",
   "metadata": {},
   "source": [
    "### 1. 請根據給定的列表依序完成下咧操作：\n",
    "\n",
    "* 1. 利用 map 將原始資料四捨五入\n",
    "* 2. 利用 filter 挑選出大於 30 的元素\n",
    "* 3. 利用 reduce 計算總和"
   ]
  },
  {
   "cell_type": "code",
   "execution_count": 10,
   "metadata": {},
   "outputs": [
    {
     "data": {
      "text/plain": [
       "100"
      ]
     },
     "execution_count": 10,
     "metadata": {},
     "output_type": "execute_result"
    }
   ],
   "source": [
    "from functools import reduce\n",
    "\n",
    "L = [6.6, 9.58, 4.009, 56.2424, 9.01344, 44.00013]\n",
    "\n",
    "\n",
    "L = map(lambda d: round(d), L)\n",
    "L = filter(lambda d: d > 30, L)\n",
    "L = reduce(lambda a, b: a + b, L)\n",
    "L"
   ]
  },
  {
   "cell_type": "markdown",
   "metadata": {},
   "source": [
    "### 2. 實作一個 map function，對一個 list 中的每個元素都做相同的操作\n",
    "\n",
    "* Sample Input 1: L = [1,2,3,4,5,6], F = add1(n)\n",
    "* Sample Output 1:  [2,3,4,5,6,7]\n",
    "* Sample Input 2: L = [2,3,4,5,6,7], F = isPrime(n)\n",
    "* Sample Output 2: [True,True,False,True,False,True]"
   ]
  },
  {
   "cell_type": "code",
   "execution_count": 1,
   "metadata": {},
   "outputs": [
    {
     "name": "stdout",
     "output_type": "stream",
     "text": [
      "[2, 3, 4, 5, 6, 7]\n",
      "[True, True, False, True, False, True]\n"
     ]
    }
   ],
   "source": [
    "def add1(n):\n",
    "    return n+1\n",
    "\n",
    "def isPrime(n):\n",
    "    for i in range(2, int(n**0.5)+1):\n",
    "        if n % i == 0:\n",
    "            return False\n",
    "    return True\n",
    "\n",
    "def f(L, F):\n",
    "    return [F(i) for i in L]\n",
    "    \n",
    "L = [1,2,3,4,5,6]\n",
    "F = add1\n",
    "print(f(L, F)) # [2,3,4,5,6,7]\n",
    "\n",
    "L = [2,3,4,5,6,7] \n",
    "F = isPrime\n",
    "print(f(L, F)) # [True, True, False, True, False, True]"
   ]
  },
  {
   "cell_type": "code",
   "execution_count": null,
   "metadata": {},
   "outputs": [],
   "source": []
  }
 ],
 "metadata": {
  "colab": {
   "name": "14 Answer.ipynb",
   "provenance": []
  },
  "kernelspec": {
   "display_name": "Python 3",
   "language": "python",
   "name": "python3"
  },
  "language_info": {
   "codemirror_mode": {
    "name": "ipython",
    "version": 3
   },
   "file_extension": ".py",
   "mimetype": "text/x-python",
   "name": "python",
   "nbconvert_exporter": "python",
   "pygments_lexer": "ipython3",
   "version": "3.7.6"
  }
 },
 "nbformat": 4,
 "nbformat_minor": 1
}
