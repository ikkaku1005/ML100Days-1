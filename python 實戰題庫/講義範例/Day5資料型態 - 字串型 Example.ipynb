{
 "cells": [
  {
   "cell_type": "markdown",
   "metadata": {},
   "source": [
    "# 範例\n",
    "***"
   ]
  },
  {
   "cell_type": "markdown",
   "metadata": {},
   "source": [
    "# [教學目標]\n",
    "\n",
    "* 能夠定義字串型的資料到變數\n",
    "* 了解字串變數的運算方式、索引和切片用法\n",
    "* 認識常見的字串函式（方法）\n",
    "* 格式化字串的使用\n",
    "\n",
    "\n",
    "\n"
   ]
  },
  {
   "cell_type": "code",
   "execution_count": 1,
   "metadata": {},
   "outputs": [
    {
     "name": "stdout",
     "output_type": "stream",
     "text": [
      "Hello <class 'str'>\n",
      "World <class 'str'>\n"
     ]
    }
   ],
   "source": [
    "# 定義字串型態的資料\n",
    "\n",
    "a = 'Hello'\n",
    "b = \"World\"\n",
    "\n",
    "print(a, type(a)) \n",
    "print(b, type(b)) "
   ]
  },
  {
   "cell_type": "code",
   "execution_count": 4,
   "metadata": {},
   "outputs": [
    {
     "name": "stdout",
     "output_type": "stream",
     "text": [
      "Hello\n",
      "\tworld\n",
      "david\ta\n",
      "Hello\\n\\tworld\n",
      "Hello\\n\\tworld\n"
     ]
    }
   ],
   "source": [
    "# 字串中的特殊字元與原形\n",
    "\n",
    "print('Hello\\n\\tworld')  # \\t 作為縮排\n",
    "# Hello\n",
    "#     world \n",
    "\n",
    "print(\"david\\ta\") # \\t 作為縮排\n",
    "\n",
    "# 在字串引號前面加上 r 或是在特殊字元前面加上 \\ 作為原形\n",
    "print(r'Hello\\n\\tworld')  \n",
    "print('Hello\\\\n\\\\tworld')  \n",
    "# Hello\\n\\tworld \n"
   ]
  },
  {
   "cell_type": "code",
   "execution_count": 5,
   "metadata": {},
   "outputs": [
    {
     "name": "stdout",
     "output_type": "stream",
     "text": [
      "H e\n",
      "d d\n",
      "Hello\n",
      "world\n"
     ]
    }
   ],
   "source": [
    "# 字串中的索引和切片\n",
    "\n",
    "s = 'Hello world'  # index:0~10長度共11\n",
    " \n",
    "print(s[0], s[1]) # H e\n",
    "print(s[-1], s[len(s)-1]) # d d\n",
    "print(s[0:5]) # Hello\n",
    "print(s[6:11]) # World \n"
   ]
  },
  {
   "cell_type": "code",
   "execution_count": 6,
   "metadata": {},
   "outputs": [
    {
     "name": "stdout",
     "output_type": "stream",
     "text": [
      "['hello', 'world']\n",
      "6\n",
      "hi world\n"
     ]
    }
   ],
   "source": [
    "# 常見的字串函式與方法\n",
    "\n",
    "s = 'hello world'\n",
    "\n",
    "print(s.split()) # 將字串分割成多個字串\n",
    "print(s.find('world')) # 找出特定字串在元字串出現的位置\n",
    "print(s.replace('hello', 'hi')) # 將字串的部分字串取代\n"
   ]
  },
  {
   "cell_type": "code",
   "execution_count": 5,
   "metadata": {},
   "outputs": [
    {
     "name": "stdout",
     "output_type": "stream",
     "text": [
      "2 + 3 = 5 \n",
      "2 + 3 = 5 \n",
      "2 + 3 = 5 \n",
      "2 + 3 = 5\n"
     ]
    }
   ],
   "source": [
    "# 格式化字串 : 可以將變數插入字串當中的預留空位，可以達到字串與變數分離的效果。\n",
    "\n",
    "a, b, sum = 2, 3, 5\n",
    "\n",
    "\n",
    "print('%s + %s = %s ' % (a, b, sum)) # 2 + 3 = 5\n",
    "\n",
    "print('{} + {} = {} '.format(a, b, sum)) # 2 + 3 = 5\n",
    "\n",
    "print('{x} + {y} = {z} '.format(x=a, y=b, z=sum))  # 2 + 3 = 5\n",
    "\n",
    "print(f'{a} + {b} = {sum}') # 2 + 3 = 5"
   ]
  },
  {
   "cell_type": "code",
   "execution_count": null,
   "metadata": {},
   "outputs": [],
   "source": []
  }
 ],
 "metadata": {
  "kernelspec": {
   "display_name": "Python 3",
   "language": "python",
   "name": "python3"
  },
  "language_info": {
   "codemirror_mode": {
    "name": "ipython",
    "version": 3
   },
   "file_extension": ".py",
   "mimetype": "text/x-python",
   "name": "python",
   "nbconvert_exporter": "python",
   "pygments_lexer": "ipython3",
   "version": "3.7.6"
  }
 },
 "nbformat": 4,
 "nbformat_minor": 2
}
