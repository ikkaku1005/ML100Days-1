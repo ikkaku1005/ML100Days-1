{
 "cells": [
  {
   "cell_type": "markdown",
   "metadata": {
    "id": "9kfHtHZSBAUM"
   },
   "source": [
    "# 範例\n",
    "***"
   ]
  },
  {
   "cell_type": "markdown",
   "metadata": {
    "id": "90vfZ78GBAUO"
   },
   "source": [
    "# [教學目標]\n",
    "\n",
    "* 認識 for loop 迴圈控制工具continue、break\n",
    "* 正確使用 for loop else\n",
    "* 掌握迴圈輔助工具 range、enumerate、zip\n",
    "\n"
   ]
  },
  {
   "cell_type": "code",
   "execution_count": 1,
   "metadata": {
    "id": "kigmUFmCBAUP",
    "outputId": "7f83e03f-7de5-40a2-d8f1-5fb76b12f8f1"
   },
   "outputs": [
    {
     "name": "stdout",
     "output_type": "stream",
     "text": [
      "0\n",
      "2\n"
     ]
    }
   ],
   "source": [
    "# Continue 和 break\n",
    "\n",
    "for i in range(3):\n",
    "    if i == 1: \n",
    "        continue # 不往下繼續執行\n",
    "    print(i)\n"
   ]
  },
  {
   "cell_type": "code",
   "execution_count": 2,
   "metadata": {
    "id": "2ym7RhDBBAUR",
    "outputId": "7c147427-da5d-4057-fb45-2fc2e1656f43"
   },
   "outputs": [
    {
     "name": "stdout",
     "output_type": "stream",
     "text": [
      "0\n",
      "1\n"
     ]
    }
   ],
   "source": [
    "for i in range(3):\n",
    "    if i == 2:\n",
    "        break # 強制離開迴圈\n",
    "    print(i)"
   ]
  },
  {
   "cell_type": "code",
   "execution_count": 3,
   "metadata": {
    "id": "6pAWXr4dBAUR",
    "outputId": "1b10d83a-f8df-49ea-c070-4b78789cfb69"
   },
   "outputs": [
    {
     "name": "stdout",
     "output_type": "stream",
     "text": [
      "1\n",
      "end\n"
     ]
    }
   ],
   "source": [
    "# Loop 中也有 else，當沒有元素可迭代時進入 else 區塊\n",
    "\n",
    "nums = [1]\n",
    "for n in nums:\n",
    "    print(n)\n",
    "else:\n",
    "    print (\"end\")\n"
   ]
  },
  {
   "cell_type": "code",
   "execution_count": 4,
   "metadata": {
    "id": "KxzHSFUEBAUS",
    "outputId": "527f62fd-1dd3-42f1-f847-3378d2fec4ef"
   },
   "outputs": [
    {
     "name": "stdout",
     "output_type": "stream",
     "text": [
      "0\n",
      "20\n",
      "end\n"
     ]
    }
   ],
   "source": [
    "i = 0\n",
    "while i < 30:\n",
    "    print(i)\n",
    "    i += 20\n",
    "else:\n",
    "    print(\"end\")\n",
    "\n",
    "# 0\n",
    "# 20\n",
    "# end\n"
   ]
  },
  {
   "cell_type": "code",
   "execution_count": 5,
   "metadata": {
    "id": "5zaM3yrPBAUS",
    "outputId": "a701e78f-c6de-4716-991f-9922c508fdcd"
   },
   "outputs": [
    {
     "name": "stdout",
     "output_type": "stream",
     "text": [
      "range(1, 11)\n",
      "<class 'range'>\n",
      "1\n",
      "2\n",
      "3\n",
      "4\n",
      "5\n",
      "6\n",
      "7\n",
      "8\n",
      "9\n",
      "10\n"
     ]
    }
   ],
   "source": [
    "# range\n",
    "\n",
    "print(range(1, 11))\n",
    "print(type(range(1, 11)))\n",
    "\n",
    "for i in range(1, 11):\n",
    "    print(i)"
   ]
  },
  {
   "cell_type": "code",
   "execution_count": 6,
   "metadata": {
    "id": "gRenwuDJBAUT",
    "outputId": "bc54477c-cf41-4c6d-845b-0fafb2fe247e"
   },
   "outputs": [
    {
     "name": "stdout",
     "output_type": "stream",
     "text": [
      "<zip object at 0x000002370A595608>\n",
      "<class 'zip'>\n",
      "a 1\n",
      "b 2\n",
      "c 3\n"
     ]
    }
   ],
   "source": [
    "# zip\n",
    "\n",
    "print(zip([\"a\",\"b\",\"c\"],[1,2,3]))\n",
    "print(type(zip([\"a\",\"b\",\"c\"],[1,2,3])))\n",
    "\n",
    "for v1, v2 in zip([\"a\",\"b\",\"c\"],[1,2,3]):\n",
    "    print(v1,v2)\n"
   ]
  },
  {
   "cell_type": "code",
   "execution_count": 7,
   "metadata": {
    "id": "AzPU2ATABAUU",
    "outputId": "83661dc0-cd70-42e6-c930-5aad3fd36756"
   },
   "outputs": [
    {
     "name": "stdout",
     "output_type": "stream",
     "text": [
      "<enumerate object at 0x000002370A598728>\n",
      "<class 'enumerate'>\n",
      "0 a\n",
      "1 b\n",
      "2 c\n"
     ]
    }
   ],
   "source": [
    "# enumerate\n",
    "\n",
    "print(enumerate([\"a\",\"b\",\"c\"]))\n",
    "print(type(enumerate([\"a\",\"b\",\"c\"])))\n",
    "\n",
    "for idx, value in enumerate([\"a\",\"b\",\"c\"]):\n",
    "    print(idx,value)\n"
   ]
  },
  {
   "cell_type": "code",
   "execution_count": null,
   "metadata": {
    "id": "dKhIivqPBAUU"
   },
   "outputs": [],
   "source": []
  }
 ],
 "metadata": {
  "colab": {
   "name": "13 Example.ipynb",
   "provenance": []
  },
  "kernelspec": {
   "display_name": "Python 3",
   "language": "python",
   "name": "python3"
  },
  "language_info": {
   "codemirror_mode": {
    "name": "ipython",
    "version": 3
   },
   "file_extension": ".py",
   "mimetype": "text/x-python",
   "name": "python",
   "nbconvert_exporter": "python",
   "pygments_lexer": "ipython3",
   "version": "3.7.6"
  }
 },
 "nbformat": 4,
 "nbformat_minor": 1
}
