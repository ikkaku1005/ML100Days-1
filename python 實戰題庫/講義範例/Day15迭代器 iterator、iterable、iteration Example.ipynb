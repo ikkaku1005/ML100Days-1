{
 "cells": [
  {
   "cell_type": "markdown",
   "metadata": {},
   "source": [
    "# 範例\n",
    "***"
   ]
  },
  {
   "cell_type": "markdown",
   "metadata": {},
   "source": [
    "# [教學目標]\n",
    "\n",
    "* 認識Iteration, Iterable, Iterator差異\n",
    "* 正確定義Iterable, Iterator類別\n",
    "* 了解 __getitem__, __next__ 使用時機\n",
    "\n"
   ]
  },
  {
   "cell_type": "code",
   "execution_count": 7,
   "metadata": {},
   "outputs": [
    {
     "name": "stdout",
     "output_type": "stream",
     "text": [
      "True\n",
      "True\n"
     ]
    }
   ],
   "source": [
    "# 可迭代（Iterable）物件 與 迭代器（Iterator）\n",
    "\n",
    "\n",
    "from collections import Iterable, Iterator\n",
    "\n",
    "class foo:\n",
    "    def __iter__(self):\n",
    "        return self\n",
    "    def __next__(self):\n",
    "        return 1\n",
    "\n",
    "f = foo()\n",
    "\n",
    "print(isinstance(f,Iterable)) # True 是可跌代物件\n",
    "print(isinstance(f,Iterator)) # True 是跌代器\n"
   ]
  },
  {
   "cell_type": "code",
   "execution_count": 1,
   "metadata": {},
   "outputs": [
    {
     "name": "stdout",
     "output_type": "stream",
     "text": [
      "<__main__.foo object at 0x000001D536F78188>\n",
      "[1, 2, 3, 4, 5]\n"
     ]
    }
   ],
   "source": [
    "# Looping\n",
    "\n",
    "class foo:\n",
    "    def __init__(self):\n",
    "        self.i = 0\n",
    "    def __iter__(self):\n",
    "        return self\n",
    "    def __next__(self):\n",
    "        if self.i < 5:\n",
    "            self.i += 1\n",
    "            return self.i\n",
    "        raise StopIteration\n",
    "\n",
    "f = foo()\n",
    "print(f)\n",
    "print(list(f)) # [0, 1, 2, 3, 4] \n"
   ]
  },
  {
   "cell_type": "code",
   "execution_count": null,
   "metadata": {},
   "outputs": [],
   "source": []
  },
  {
   "cell_type": "code",
   "execution_count": null,
   "metadata": {},
   "outputs": [],
   "source": []
  }
 ],
 "metadata": {
  "kernelspec": {
   "display_name": "Python 3",
   "language": "python",
   "name": "python3"
  },
  "language_info": {
   "codemirror_mode": {
    "name": "ipython",
    "version": 3
   },
   "file_extension": ".py",
   "mimetype": "text/x-python",
   "name": "python",
   "nbconvert_exporter": "python",
   "pygments_lexer": "ipython3",
   "version": "3.7.6"
  }
 },
 "nbformat": 4,
 "nbformat_minor": 2
}
