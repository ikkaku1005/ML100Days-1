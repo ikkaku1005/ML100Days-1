{
 "cells": [
  {
   "cell_type": "markdown",
   "metadata": {},
   "source": [
    "# 範例\n",
    "***"
   ]
  },
  {
   "cell_type": "markdown",
   "metadata": {},
   "source": [
    "# lambda函式\n"
   ]
  },
  {
   "cell_type": "code",
   "execution_count": 1,
   "metadata": {},
   "outputs": [
    {
     "name": "stdout",
     "output_type": "stream",
     "text": [
      "foo\n",
      "bar\n",
      "3\n",
      "3\n"
     ]
    }
   ],
   "source": [
    "# Lambda 匿名函式\n",
    "\n",
    "foo = lambda : \"foo\"\n",
    "print(foo())\n",
    "\n",
    "foo = lambda var : var\n",
    "print(foo(\"bar\"))\n",
    "\n",
    "foo = lambda var1, var2: var1 + var2\n",
    "print(foo(1,2)) \n",
    "\n",
    "foo = lambda var1=1, var2=2: var1 + var2\n",
    "print(foo())"
   ]
  },
  {
   "cell_type": "code",
   "execution_count": 2,
   "metadata": {},
   "outputs": [
    {
     "name": "stdout",
     "output_type": "stream",
     "text": [
      "foo\n",
      "foo\n"
     ]
    }
   ],
   "source": [
    "foo = lambda : \"foo\"\n",
    "print(foo())\n",
    "\n",
    "# 其實就等價於一般的函式\n",
    "\n",
    "def foo():\n",
    "    return \"foo\"\n",
    "print(foo())"
   ]
  },
  {
   "cell_type": "code",
   "execution_count": 3,
   "metadata": {},
   "outputs": [
    {
     "name": "stdout",
     "output_type": "stream",
     "text": [
      "bar\n",
      "bar\n"
     ]
    }
   ],
   "source": [
    "foo = lambda var : var\n",
    "print(foo(\"bar\"))\n",
    "\n",
    "# 其實就等價於一般的函式\n",
    "\n",
    "def foo(var):\n",
    "    return var\n",
    "print(foo(\"bar\"))"
   ]
  },
  {
   "cell_type": "code",
   "execution_count": 4,
   "metadata": {},
   "outputs": [
    {
     "name": "stdout",
     "output_type": "stream",
     "text": [
      "3\n",
      "3\n"
     ]
    }
   ],
   "source": [
    "foo = lambda var1, var2: var1 + var2\n",
    "print(foo(1, 2)) \n",
    "\n",
    "# 其實就等價於一般的函式\n",
    "\n",
    "def foo(var1, var2):\n",
    "    return var1 + var2\n",
    "print(foo(1, 2))"
   ]
  },
  {
   "cell_type": "code",
   "execution_count": 12,
   "metadata": {},
   "outputs": [
    {
     "name": "stdout",
     "output_type": "stream",
     "text": [
      "3\n",
      "3\n"
     ]
    }
   ],
   "source": [
    "foo = lambda var1=1, var2=2: var1 + var2\n",
    "print(foo())\n",
    "\n",
    "# 其實就等價於一般的函式\n",
    "\n",
    "def foo(var1=1, var2=2):\n",
    "    return var1 + var2\n",
    "print(foo())"
   ]
  },
  {
   "cell_type": "markdown",
   "metadata": {},
   "source": [
    "# map函式"
   ]
  },
  {
   "cell_type": "code",
   "execution_count": 11,
   "metadata": {},
   "outputs": [
    {
     "name": "stdout",
     "output_type": "stream",
     "text": [
      "<map object at 0x00000288D070DE08>\n",
      "[2, 3, 4]\n",
      "<map object at 0x00000288D070D708>\n",
      "[2, 3, 4]\n"
     ]
    }
   ],
   "source": [
    "# Map function : map(函式, 變數)\n",
    "\n",
    "def foo(x):\n",
    "    return x+1\n",
    "\n",
    "print(map(foo, [1,2,3]))\n",
    "#<map object at 0x00000288D0718048>\n",
    "\n",
    "print(list(map(foo, [1,2,3])))\n",
    "#[2, 3, 4]\n",
    "\n",
    "# lambda函式\n",
    "print(map(lambda x:x+1, [1,2,3]))\n",
    "#<map object at 0x00000288D071F4C8>\n",
    "\n",
    "print(list(map(lambda x:x+1, [1,2,3])))\n",
    "#[2, 3, 4]"
   ]
  },
  {
   "cell_type": "markdown",
   "metadata": {},
   "source": [
    "# reduce函式"
   ]
  },
  {
   "cell_type": "code",
   "execution_count": 14,
   "metadata": {},
   "outputs": [
    {
     "name": "stdout",
     "output_type": "stream",
     "text": [
      "45\n"
     ]
    }
   ],
   "source": [
    "from functools import reduce\n",
    "L = [1,2,3,4,5,6,7,8,9]\n",
    "def add(x,y):\n",
    "    return x+y\n",
    "print(reduce(add,L)) \n",
    "#先取 L中第一和二的元素，返回函數後再代入第三個元素，\n",
    "#再反回函數，再帶入第四個函數，以此類推"
   ]
  },
  {
   "cell_type": "code",
   "execution_count": 23,
   "metadata": {},
   "outputs": [
    {
     "name": "stdout",
     "output_type": "stream",
     "text": [
      "第 1 次執行：x=1, y=2\n",
      "第 2 次執行：x=3, y=4\n",
      "7\n",
      "第 3 次執行：x=0, y=1\n",
      "第 4 次執行：x=1, y=2\n",
      "第 5 次執行：x=3, y=3\n",
      "第 6 次執行：x=6, y=4\n",
      "第 7 次執行：x=10, y=5\n",
      "第 8 次執行：x=15, y=6\n",
      "第 9 次執行：x=21, y=7\n",
      "第 10 次執行：x=28, y=8\n",
      "第 11 次執行：x=36, y=9\n",
      "第 12 次執行：x=45, y=10\n",
      "55\n"
     ]
    }
   ],
   "source": [
    "# Reduce function\n",
    "\n",
    "from functools import reduce\n",
    "\n",
    "count = 1\n",
    "\n",
    "def foo(x, y):\n",
    "    global count \n",
    "    print(f'第 {count} 次執行：x={x}, y={y}')\n",
    "    count = count + 1\n",
    "    return x + y\n",
    "\n",
    "print(reduce(foo, [1, 2, 4]))\n",
    "print(reduce(foo, range(11)))\n"
   ]
  },
  {
   "cell_type": "markdown",
   "metadata": {},
   "source": [
    "# Filter fuction 函式"
   ]
  },
  {
   "cell_type": "code",
   "execution_count": 15,
   "metadata": {},
   "outputs": [
    {
     "name": "stdout",
     "output_type": "stream",
     "text": [
      "Is 1 smaller than 5 ? True\n",
      "Is 2 smaller than 5 ? True\n",
      "Is 7 smaller than 5 ? False\n",
      "Is 8 smaller than 5 ? False\n"
     ]
    },
    {
     "data": {
      "text/plain": [
       "[1, 2]"
      ]
     },
     "execution_count": 15,
     "metadata": {},
     "output_type": "execute_result"
    }
   ],
   "source": [
    "# Filter function\n",
    "\n",
    "def foo(x):\n",
    "    i = x < 5\n",
    "    print(\"Is {} smaller than 5 ?\".format(x), i)\n",
    "    return i\n",
    "\n",
    "list(filter(foo, [1,2,7,8]))\n"
   ]
  },
  {
   "cell_type": "code",
   "execution_count": null,
   "metadata": {},
   "outputs": [],
   "source": []
  }
 ],
 "metadata": {
  "kernelspec": {
   "display_name": "Python 3",
   "language": "python",
   "name": "python3"
  },
  "language_info": {
   "codemirror_mode": {
    "name": "ipython",
    "version": 3
   },
   "file_extension": ".py",
   "mimetype": "text/x-python",
   "name": "python",
   "nbconvert_exporter": "python",
   "pygments_lexer": "ipython3",
   "version": "3.7.6"
  }
 },
 "nbformat": 4,
 "nbformat_minor": 2
}
