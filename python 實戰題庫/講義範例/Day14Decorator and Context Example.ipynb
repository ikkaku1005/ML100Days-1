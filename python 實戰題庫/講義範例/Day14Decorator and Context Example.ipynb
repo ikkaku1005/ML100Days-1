{
 "cells": [
  {
   "cell_type": "markdown",
   "metadata": {},
   "source": [
    "# 範例\n",
    "***"
   ]
  },
  {
   "cell_type": "markdown",
   "metadata": {},
   "source": [
    "# [教學目標]\n",
    "\n",
    "* 了解 decorator、Context 概念\n",
    "* 正確使用 decorator 簡化程式碼\n",
    "* 正確使用 Context 自動執行動作\n",
    "\n"
   ]
  },
  {
   "cell_type": "markdown",
   "metadata": {},
   "source": [
    "## 如何紀錄函式執行時間？"
   ]
  },
  {
   "cell_type": "code",
   "execution_count": 5,
   "metadata": {},
   "outputs": [
    {
     "name": "stdout",
     "output_type": "stream",
     "text": [
      "Help on NoneType object:\n",
      "\n",
      "class NoneType(object)\n",
      " |  Methods defined here:\n",
      " |  \n",
      " |  __bool__(self, /)\n",
      " |      self != 0\n",
      " |  \n",
      " |  __repr__(self, /)\n",
      " |      Return repr(self).\n",
      " |  \n",
      " |  ----------------------------------------------------------------------\n",
      " |  Static methods defined here:\n",
      " |  \n",
      " |  __new__(*args, **kwargs) from builtins.type\n",
      " |      Create and return a new object.  See help(type) for accurate signature.\n",
      "\n"
     ]
    }
   ],
   "source": [
    "help(time.sleep(3))"
   ]
  },
  {
   "cell_type": "code",
   "execution_count": 9,
   "metadata": {},
   "outputs": [
    {
     "name": "stdout",
     "output_type": "stream",
     "text": [
      "do something\n",
      "執行時間 10.014371395111084\n"
     ]
    }
   ],
   "source": [
    "import time\n",
    "\n",
    "def do():\n",
    "    start = time.time()\n",
    "    print(\"do something\")\n",
    "    time.sleep(10)  # 函式會延遲暫停當前的執行緒，延遲暫停多久取決於帶入的參數，\n",
    "                   # 設定單位是秒，可以接受浮點數，也就是說我想要延遲暫停 1.5 秒的話是可以的\n",
    "    print(\"執行時間\", time.time()-start)\n",
    "    return\n",
    "\n",
    "do()\n"
   ]
  },
  {
   "cell_type": "code",
   "execution_count": 11,
   "metadata": {},
   "outputs": [
    {
     "name": "stdout",
     "output_type": "stream",
     "text": [
      "do something\n",
      "執行時間 3.007902145385742\n"
     ]
    }
   ],
   "source": [
    "# 把共同的程式碼封裝成函式\n",
    "\n",
    "import time\n",
    "\n",
    "def cal_time(func):\n",
    "    start = time.time()\n",
    "    func()  # call function\n",
    "    print(\"執行時間\", time.time()-start)\n",
    "    return\n",
    "\n",
    "def do():\n",
    "    print(\"do something\")\n",
    "    time.sleep(3)\n",
    "    return\n",
    "\n",
    "cal_time(do)\n"
   ]
  },
  {
   "cell_type": "code",
   "execution_count": 12,
   "metadata": {},
   "outputs": [
    {
     "name": "stdout",
     "output_type": "stream",
     "text": [
      "do something\n",
      "執行時間 3.008147716522217\n"
     ]
    }
   ],
   "source": [
    "# 近一步把函式封裝成裝飾器\n",
    "\n",
    "import time\n",
    "\n",
    "def cal_time(func):\n",
    "    def wrap():\n",
    "        start = time.time()\n",
    "        func()\n",
    "        print('執行時間', time.time()-start)\n",
    "    return wrap\n",
    "\n",
    "def do():\n",
    "    print(\"do something\")\n",
    "    time.sleep(3)\n",
    "    return\n",
    "\n",
    "do = cal_time(do)\n",
    "do()\n"
   ]
  },
  {
   "cell_type": "code",
   "execution_count": 13,
   "metadata": {},
   "outputs": [
    {
     "name": "stdout",
     "output_type": "stream",
     "text": [
      "do something\n",
      "執行時間 3.01015043258667\n"
     ]
    }
   ],
   "source": [
    "# 裝飾器的語法糖(Syntax Candy) : @\n",
    "\n",
    "import time\n",
    "def cal_time(func):\n",
    "    def wrap():\n",
    "        start = time.time()\n",
    "        func()\n",
    "        print('執行時間', time.time()-start)\n",
    "    return wrap\n",
    "\n",
    "@cal_time\n",
    "def do():\n",
    "    print(\"do something\")\n",
    "    time.sleep(3)\n",
    "    return\n",
    "\n",
    "do()\n"
   ]
  },
  {
   "cell_type": "markdown",
   "metadata": {},
   "source": [
    "## 利用 Context Management 紀錄時間"
   ]
  },
  {
   "cell_type": "code",
   "execution_count": 14,
   "metadata": {},
   "outputs": [
    {
     "name": "stdout",
     "output_type": "stream",
     "text": [
      "do something\n",
      "執行時間 3.008200168609619\n"
     ]
    }
   ],
   "source": [
    "import time\n",
    "\n",
    "class Do:\n",
    "    def do(self):\n",
    "        print(\"do something\")\n",
    "        time.sleep(3)\n",
    "    def __enter__(self):\n",
    "        self.start = time.time()\n",
    "        self.do()\n",
    "    def __exit__(self, exc_type, exc_value, traceback):\n",
    "        print('執行時間', time.time()-self.start)\n",
    "\n",
    "with Do() as d:\n",
    "    pass\n"
   ]
  },
  {
   "cell_type": "markdown",
   "metadata": {},
   "source": [
    " # ---補充---"
   ]
  },
  {
   "cell_type": "markdown",
   "metadata": {},
   "source": [
    "# Decorator\n",
    "1.傳入個函數對象，返回另一個更強的函數對象。  "
   ]
  },
  {
   "cell_type": "code",
   "execution_count": 21,
   "metadata": {},
   "outputs": [
    {
     "name": "stdout",
     "output_type": "stream",
     "text": [
      "I can fly\n",
      "I can walk\n"
     ]
    }
   ],
   "source": [
    "def iron(man):\n",
    "    print(\"I can fly\")\n",
    "    return man\n",
    "\n",
    "def tony():\n",
    "    print(\"I can walk\")\n",
    "\n",
    "tony = iron(tony)  #裝飾器\n",
    "\n",
    "tony()\n"
   ]
  },
  {
   "cell_type": "code",
   "execution_count": 22,
   "metadata": {},
   "outputs": [
    {
     "name": "stdout",
     "output_type": "stream",
     "text": [
      "I can fly\n",
      "I can walk\n"
     ]
    }
   ],
   "source": [
    "def iron(man):\n",
    "    print(\"I can fly\")\n",
    "    return man\n",
    "\n",
    "@iron  #裝飾器的語法糖(Syntax Candy) 和 tony = iron(tony)同義  \n",
    "def tony():\n",
    "    print(\"I can walk\")\n",
    "\n",
    "#tony = iron(tony)  #裝飾器\n",
    "\n",
    "tony()\n"
   ]
  },
  {
   "cell_type": "code",
   "execution_count": 25,
   "metadata": {},
   "outputs": [
    {
     "name": "stdout",
     "output_type": "stream",
     "text": [
      "I can fly\n"
     ]
    }
   ],
   "source": [
    "def iron(man):\n",
    "    print(\"I can fly\")\n",
    "    return man\n",
    "\n",
    "#@iron\n",
    "def tony():\n",
    "    print(\"I can walk\")\n",
    "\n",
    "tony = iron(tony)  #裝飾器\n",
    "\n",
    "#tony()\n"
   ]
  },
  {
   "cell_type": "code",
   "execution_count": 29,
   "metadata": {},
   "outputs": [
    {
     "name": "stdout",
     "output_type": "stream",
     "text": [
      "I can fly\n",
      "I can walk\n"
     ]
    }
   ],
   "source": [
    "def iron(man):\n",
    "    def wrapper():\n",
    "        print(\"I can fly\")\n",
    "      \n",
    "    return wrapper  #返回的是函數對象\n",
    "\n",
    "#@iron\n",
    "def tony():\n",
    "    print(\"I can walk\")\n",
    "\n",
    "tony = iron(tony)  #裝飾器\n",
    "\n",
    "#tony()\n",
    "tony()"
   ]
  },
  {
   "cell_type": "code",
   "execution_count": 30,
   "metadata": {},
   "outputs": [
    {
     "name": "stdout",
     "output_type": "stream",
     "text": [
      "I can fly\n",
      "I can walk\n"
     ]
    }
   ],
   "source": [
    "def iron(man):\n",
    "    def wrapper():\n",
    "        print(\"I can fly\")\n",
    "        man()\n",
    "    return wrapper  #返回的是函數對象\n",
    "\n",
    "#@iron\n",
    "def tony():\n",
    "    print(\"I can walk\")\n",
    "\n",
    "tony = iron(tony)  #裝飾器\n",
    "\n",
    "#tony()\n",
    "tony()"
   ]
  },
  {
   "cell_type": "code",
   "execution_count": 49,
   "metadata": {},
   "outputs": [
    {
     "name": "stdout",
     "output_type": "stream",
     "text": [
      "I can fly 111\n",
      "I can walk 1 2 30 40\n",
      "I can fly 222\n",
      "cool~\n",
      "I can fly 111\n",
      "我只是一頭豬\n",
      "I can fly 222\n"
     ]
    },
    {
     "data": {
      "text/plain": [
       "'cool~'"
      ]
     },
     "execution_count": 49,
     "metadata": {},
     "output_type": "execute_result"
    }
   ],
   "source": [
    "def iron(man):\n",
    "    def wrapper(*args, **kwargs):  #**kwargs 關鍵字參數\n",
    "        print(\"I can fly 111\")\n",
    "        res = man(*args, **kwargs)  #調用函數 返回一個值\n",
    "        print(\"I can fly 222\")\n",
    "        return result \n",
    "    return wrapper  # 返回的是函數對象，非函數名稱\n",
    "\n",
    "@iron # = > 和  tony = iron(tony)同義   \n",
    "def tony(a,b, c = 3, d = 4):\n",
    "    print(\"I can walk\", a , b, c ,d)\n",
    "    return \"cool~\"\n",
    "\n",
    "#tony = iron(tony)  #裝飾器\n",
    "\n",
    "#tony()\n",
    "result = tony(1,2, c = 30, d = 40)\n",
    "print(result)\n",
    "\n",
    "\n",
    "@iron\n",
    "def pig():\n",
    "    print(\"我只是一頭豬\")\n",
    "\n",
    "pig()"
   ]
  },
  {
   "cell_type": "code",
   "execution_count": null,
   "metadata": {},
   "outputs": [],
   "source": []
  }
 ],
 "metadata": {
  "kernelspec": {
   "display_name": "Python 3",
   "language": "python",
   "name": "python3"
  },
  "language_info": {
   "codemirror_mode": {
    "name": "ipython",
    "version": 3
   },
   "file_extension": ".py",
   "mimetype": "text/x-python",
   "name": "python",
   "nbconvert_exporter": "python",
   "pygments_lexer": "ipython3",
   "version": "3.7.6"
  }
 },
 "nbformat": 4,
 "nbformat_minor": 2
}
