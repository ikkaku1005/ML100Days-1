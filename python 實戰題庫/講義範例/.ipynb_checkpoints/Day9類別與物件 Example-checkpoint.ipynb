{
 "cells": [
  {
   "cell_type": "markdown",
   "metadata": {},
   "source": [
    "# 範例\n",
    "***"
   ]
  },
  {
   "cell_type": "markdown",
   "metadata": {},
   "source": [
    "# [教學目標]\n",
    "\n",
    "* 了解物件導向的觀念與特性\n",
    "* 在 Python 當中可以定義 class 並且建立 object\n",
    "\n",
    "\n",
    "\n",
    "\n",
    "\n",
    "\n"
   ]
  },
  {
   "cell_type": "code",
   "execution_count": 1,
   "metadata": {},
   "outputs": [],
   "source": [
    "# define Class\n",
    "#定義一個 class，class 當中包含屬性與方法。屬性通常定義在 __init__ 的建構式（constructor）當中，用來初始化物件\n",
    "class MyClass: \n",
    "    def __init__(self, name):\n",
    "        self.name = name\n",
    "    def f(self): \n",
    "        return 'hello %s' % (self.name)\n",
    "\n"
   ]
  },
  {
   "cell_type": "code",
   "execution_count": 2,
   "metadata": {},
   "outputs": [
    {
     "name": "stdout",
     "output_type": "stream",
     "text": [
      "hello\n",
      "hello hello\n",
      "world\n",
      "hello world\n"
     ]
    }
   ],
   "source": [
    "# 建立 Object\n",
    "#可以利用定義好的類別生成物件，需傳入在 __init__ 的建構式（constructor） 設定的參數來初始化物件。\n",
    "\n",
    "x = MyClass('hello')\n",
    "print(x.name)\n",
    "print(x.f())\n",
    "\n",
    "y = MyClass('world')\n",
    "print(y.name)\n",
    "print(y.f())\n"
   ]
  },
  {
   "cell_type": "code",
   "execution_count": null,
   "metadata": {},
   "outputs": [],
   "source": []
  }
 ],
 "metadata": {
  "kernelspec": {
   "display_name": "Python 3",
   "language": "python",
   "name": "python3"
  },
  "language_info": {
   "codemirror_mode": {
    "name": "ipython",
    "version": 3
   },
   "file_extension": ".py",
   "mimetype": "text/x-python",
   "name": "python",
   "nbconvert_exporter": "python",
   "pygments_lexer": "ipython3",
   "version": "3.7.6"
  }
 },
 "nbformat": 4,
 "nbformat_minor": 2
}
