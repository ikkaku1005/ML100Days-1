{
 "cells": [
  {
   "cell_type": "markdown",
   "metadata": {},
   "source": [
    "# 範例\n",
    "***"
   ]
  },
  {
   "cell_type": "markdown",
   "metadata": {},
   "source": [
    "# [教學目標]\n",
    "\n",
    "* 認識 Scope and Namespace\n",
    "* 了解變數作用範圍\n",
    "* 正確存取不同命名空間變數值"
   ]
  },
  {
   "cell_type": "code",
   "execution_count": 1,
   "metadata": {},
   "outputs": [
    {
     "name": "stdout",
     "output_type": "stream",
     "text": [
      "global_var:  0\n",
      "local_var:  1\n",
      "inner_var:  2\n"
     ]
    }
   ],
   "source": [
    "# Scope 作用域\n",
    "\n",
    "global_var = 0  # 全局作用域\n",
    "def foo1():\n",
    "    local_var = 1  # 闭包函数外的函数中\n",
    "    def foo2():\n",
    "        inner_var = 2  # 局部作用域\n",
    "        print('global_var: ', global_var) #取得global變數\n",
    "        print('local_var: ', local_var)  #取得local_var\n",
    "        print('inner_var: ', abs(inner_var)) # abs為built-in function\n",
    "    foo2()\n",
    "        \n",
    "foo1()"
   ]
  },
  {
   "cell_type": "code",
   "execution_count": 2,
   "metadata": {},
   "outputs": [
    {
     "name": "stdout",
     "output_type": "stream",
     "text": [
      "0\n",
      "1\n"
     ]
    }
   ],
   "source": [
    "# global\n",
    "\n",
    "global_var = 0  # 全局作用域\n",
    "\n",
    "def foo1():\n",
    "    global global_var\n",
    "    print(global_var) # 0\n",
    "    global_var = 1 # 修改全局變數值\n",
    "\n",
    "foo1()\n",
    "print(global_var) # 1\n"
   ]
  },
  {
   "cell_type": "code",
   "execution_count": 3,
   "metadata": {},
   "outputs": [
    {
     "name": "stdout",
     "output_type": "stream",
     "text": [
      "0\n"
     ]
    }
   ],
   "source": [
    "# nonlocal\n",
    "\n",
    "def foo1():\n",
    "    var1 = 0\n",
    "    def foo2():\n",
    "        nonlocal var1 # 宣告存取局部變數     \n",
    "        print(var1)   \n",
    "        var1 = 1 # 修改局部變數值  \n",
    "    foo2()\n",
    "\n",
    "foo1()\n"
   ]
  },
  {
   "cell_type": "markdown",
   "metadata": {},
   "source": [
    "# 補充"
   ]
  },
  {
   "cell_type": "code",
   "execution_count": 16,
   "metadata": {},
   "outputs": [
    {
     "name": "stdout",
     "output_type": "stream",
     "text": [
      "110\n",
      "100\n"
     ]
    }
   ],
   "source": [
    "APPLE = 100  #全局變量的定義 #在任何地方都可以取得全局變量\n",
    "\n",
    "def fun():\n",
    "    \n",
    "    a = 10  #局部變量\n",
    "    \n",
    "    return a + 100\n",
    "\n",
    "print(fun())\n",
    "print(APPLE)  #全局變量可以被取出\n",
    "#print(a) 局部變量不可在外部被取出"
   ]
  },
  {
   "cell_type": "code",
   "execution_count": 24,
   "metadata": {},
   "outputs": [
    {
     "name": "stdout",
     "output_type": "stream",
     "text": [
      "120\n",
      "100\n",
      "20\n"
     ]
    }
   ],
   "source": [
    "APPLE = 100  #全局變量的定義 #在任何地方都可以取得全局變量\n",
    "a = None #在全局外定義一個aa\n",
    "def fun():\n",
    "    global a # 把a定義為全局變量\n",
    "    a = 20  #局部變量\n",
    "    \n",
    "    return a + 100\n",
    "\n",
    "print(fun())\n",
    "print(APPLE)  #全局變量可以被取出\n",
    "print(a)  #裡面定義一個global可以被取出 ，\n",
    "          #且要在 fun() 被call out 出後才會印出"
   ]
  },
  {
   "cell_type": "code",
   "execution_count": 26,
   "metadata": {},
   "outputs": [
    {
     "name": "stdout",
     "output_type": "stream",
     "text": [
      "100\n",
      "a past= None\n",
      "120\n",
      "a now= 20\n"
     ]
    }
   ],
   "source": [
    "APPLE = 100  #全局變量的定義 #在任何地方都可以取得全局變量\n",
    "a = None #在全局外定義一個aa\n",
    "def fun():\n",
    "    global a # 把a定義為全局變量\n",
    "    a = 20  #局部變量\n",
    "    \n",
    "    return a + 100\n",
    "\n",
    "\n",
    "print(APPLE)  #全局變量可以被取出\n",
    "print(\"a past=\",a)  #在fun()被call out 出前還是在函數外的值\n",
    "print(fun())\n",
    "print(\"a now=\",a )  #裡面定義一個global可以被取出\n"
   ]
  },
  {
   "cell_type": "code",
   "execution_count": null,
   "metadata": {},
   "outputs": [],
   "source": []
  }
 ],
 "metadata": {
  "kernelspec": {
   "display_name": "Python 3",
   "language": "python",
   "name": "python3"
  },
  "language_info": {
   "codemirror_mode": {
    "name": "ipython",
    "version": 3
   },
   "file_extension": ".py",
   "mimetype": "text/x-python",
   "name": "python",
   "nbconvert_exporter": "python",
   "pygments_lexer": "ipython3",
   "version": "3.7.6"
  }
 },
 "nbformat": 4,
 "nbformat_minor": 2
}
