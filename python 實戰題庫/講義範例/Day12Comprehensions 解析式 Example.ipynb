{
 "cells": [
  {
   "cell_type": "markdown",
   "metadata": {},
   "source": [
    "# 範例\n",
    "***"
   ]
  },
  {
   "cell_type": "markdown",
   "metadata": {},
   "source": [
    "# [教學目標]\n",
    "\n",
    "* 認識 comprehension 觀念\n",
    "* 正確使用 comprehension 用法\n",
    "* 比較 comprehension 與傳統寫法的差異"
   ]
  },
  {
   "cell_type": "code",
   "execution_count": 1,
   "metadata": {},
   "outputs": [
    {
     "name": "stdout",
     "output_type": "stream",
     "text": [
      "[0, 1, 2, 3]\n",
      "[0, 2, 4, 6]\n"
     ]
    }
   ],
   "source": [
    "# List Comprehension\n",
    "\n",
    "# Comprehension 基礎用法為將一個可迭代的資料轉成另一個 list 格式：\n",
    "print([i for i in range(4)])\n",
    "\n",
    "# 也可以在 Comprehension 中進行運算：\n",
    "\n",
    "print([2*i for i in range(4)])"
   ]
  },
  {
   "cell_type": "code",
   "execution_count": 2,
   "metadata": {},
   "outputs": [
    {
     "name": "stdout",
     "output_type": "stream",
     "text": [
      "[0, 1, 2, 3]\n",
      "{0, 1, 2, 3}\n",
      "{'key1': 'val1', 'key2': 'val2'}\n"
     ]
    }
   ],
   "source": [
    "# 其他資料結構的 Comprehension\n",
    "\n",
    "print([i for i in (0, 1, 2, 3)]) # list\n",
    "print({i for i in range(4)}) # Set\n",
    "print({k: v for k, v in zip(['key1', 'key2'], ['val1', 'val2'])}) # Dict"
   ]
  },
  {
   "cell_type": "code",
   "execution_count": 7,
   "metadata": {},
   "outputs": [
    {
     "name": "stdout",
     "output_type": "stream",
     "text": [
      "<generator object <genexpr> at 0x10258db48>\n"
     ]
    }
   ],
   "source": [
    "# Generator Comprehension\n",
    "\n",
    "# 當把 [ ] 改成 ( ) 的 Comprehension 是一種 Generator 生成器的型態\n",
    "print((i for i in range(4)))\n"
   ]
  },
  {
   "cell_type": "code",
   "execution_count": 3,
   "metadata": {},
   "outputs": [
    {
     "name": "stdout",
     "output_type": "stream",
     "text": [
      "[0, 1, 2, 3]\n",
      "0\n",
      "1\n",
      "2\n",
      "3\n"
     ]
    }
   ],
   "source": [
    "# one-line expression \n",
    "\n",
    "print([i for i in range(4)]) # [0, 1, 2, 3]\n",
    "\n",
    "# 等價於一般的迴圈：\n",
    "\n",
    "for i in range(4):\n",
    "    print(i) # 0, 1, 2, 3\n"
   ]
  },
  {
   "cell_type": "code",
   "execution_count": 3,
   "metadata": {},
   "outputs": [
    {
     "name": "stdout",
     "output_type": "stream",
     "text": [
      "[(0, 0), (0, 1), (0, 2), (1, 0), (1, 1), (1, 2)]\n",
      "(0, 0)\n",
      "(0, 1)\n",
      "(0, 2)\n",
      "(1, 0)\n",
      "(1, 1)\n",
      "(1, 2)\n"
     ]
    }
   ],
   "source": [
    "# 多重 Comprehension\n",
    "\n",
    "print([(i, j) for i in range(2) for j in range(3)])\n",
    "\n",
    "# 等價於多層的迴圈：\n",
    "\n",
    "for i in range(2):\n",
    "    for j in range(3):\n",
    "        print((i, j))"
   ]
  },
  {
   "cell_type": "code",
   "execution_count": 4,
   "metadata": {},
   "outputs": [
    {
     "name": "stdout",
     "output_type": "stream",
     "text": [
      "[0, 2, 4, 6, 8]\n",
      "0\n",
      "2\n",
      "4\n",
      "6\n",
      "8\n"
     ]
    }
   ],
   "source": [
    "# 判斷式與 Comprehension 共用\n",
    "\n",
    "print([i for i in range(10) if i % 2 == 0])\n",
    "\n",
    "# 等價於有判斷的的迴圈：\n",
    "\n",
    "for i in range(10):\n",
    "    if i % 2 == 0:\n",
    "        print(i)"
   ]
  },
  {
   "cell_type": "code",
   "execution_count": null,
   "metadata": {},
   "outputs": [],
   "source": []
  }
 ],
 "metadata": {
  "kernelspec": {
   "display_name": "Python 3",
   "language": "python",
   "name": "python3"
  },
  "language_info": {
   "codemirror_mode": {
    "name": "ipython",
    "version": 3
   },
   "file_extension": ".py",
   "mimetype": "text/x-python",
   "name": "python",
   "nbconvert_exporter": "python",
   "pygments_lexer": "ipython3",
   "version": "3.7.6"
  }
 },
 "nbformat": 4,
 "nbformat_minor": 2
}
