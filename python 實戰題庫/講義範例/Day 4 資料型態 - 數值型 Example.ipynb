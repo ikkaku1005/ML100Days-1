{
 "cells": [
  {
   "cell_type": "markdown",
   "metadata": {},
   "source": [
    "# 範例\n",
    "***"
   ]
  },
  {
   "cell_type": "markdown",
   "metadata": {},
   "source": [
    "# [教學目標]\n",
    "\n",
    "* 能夠定義數值型的資料到變數\n",
    "* 了解數值變數的算數運算方式與優先權\n",
    "* 正確地進行數值資料間的型態轉換\n",
    "\n",
    "\n"
   ]
  },
  {
   "cell_type": "code",
   "execution_count": 1,
   "metadata": {},
   "outputs": [
    {
     "name": "stdout",
     "output_type": "stream",
     "text": [
      "123 <class 'int'>\n",
      "123.456 <class 'float'>\n",
      "(123+456j) <class 'complex'>\n"
     ]
    }
   ],
   "source": [
    "# 定義數值型態的資料\n",
    "\n",
    "a = 123\n",
    "b = 123.456\n",
    "c = 123+456j\n",
    "\n",
    "print(a, type(a)) # 整數\n",
    "print(b, type(b)) # 小數 = 浮點數\n",
    "print(c, type(c)) # 複數"
   ]
  },
  {
   "cell_type": "code",
   "execution_count": 2,
   "metadata": {},
   "outputs": [
    {
     "name": "stdout",
     "output_type": "stream",
     "text": [
      "6\n",
      "6.0\n",
      "6.0\n",
      "0.4\n",
      "0.4\n",
      "0.4\n",
      "0.4\n"
     ]
    }
   ],
   "source": [
    "# 不同數值型態的運算會轉換成範圍大的\n",
    "\n",
    "print(4 + 2) # 6\n",
    "print(4.0 + 2.0) # 6.0\n",
    "print(4.0 + 2) # 6.0\n",
    "\n",
    "print(2 / 5) # 0.4\n",
    "print(2.0 / 5) # 0.4\n",
    "print(2 / 5.0) # 0.4\n",
    "print(2.0 / 5.0) # 0.4"
   ]
  },
  {
   "cell_type": "code",
   "execution_count": 3,
   "metadata": {},
   "outputs": [
    {
     "name": "stdout",
     "output_type": "stream",
     "text": [
      "0\n",
      "2\n",
      "32\n"
     ]
    }
   ],
   "source": [
    "# // 是取整數的除法， % 用來取餘數\n",
    "\n",
    "print(2 // 5) # 0\n",
    "print(2 % 5) # 2\n",
    "\n",
    "# ** 是次方\n",
    "\n",
    "print(2 ** 5)"
   ]
  },
  {
   "cell_type": "code",
   "execution_count": 4,
   "metadata": {},
   "outputs": [
    {
     "name": "stdout",
     "output_type": "stream",
     "text": [
      "49\n",
      "18.442545824080696\n"
     ]
    }
   ],
   "source": [
    "# Python2 與 Python3 的除法不一樣\n",
    "\n",
    "# python2 的除法 = python 的整數除法\n",
    "w = 49\n",
    "h = 163 \n",
    "bmi = 49 // (163 // 100)**2 \n",
    "print(bmi) # 49\n",
    "\n",
    "# python3\n",
    "w = 49.0 \n",
    "h = 163.0 \n",
    "bmi = 49 / (163 / 100)**2 \n",
    "print(bmi) # 18.4425...\n"
   ]
  },
  {
   "cell_type": "code",
   "execution_count": 5,
   "metadata": {},
   "outputs": [
    {
     "name": "stdout",
     "output_type": "stream",
     "text": [
      "3\n",
      "9.0\n",
      "(9+3j)\n"
     ]
    }
   ],
   "source": [
    "# 數值型態的型態轉換\n",
    "\n",
    "print(int(3.14)) # 3\n",
    "print(float(9)) # 9.0\n",
    "print(complex(9, 3)) # 9+3j"
   ]
  },
  {
   "cell_type": "code",
   "execution_count": null,
   "metadata": {},
   "outputs": [],
   "source": []
  }
 ],
 "metadata": {
  "kernelspec": {
   "display_name": "Python 3",
   "language": "python",
   "name": "python3"
  },
  "language_info": {
   "codemirror_mode": {
    "name": "ipython",
    "version": 3
   },
   "file_extension": ".py",
   "mimetype": "text/x-python",
   "name": "python",
   "nbconvert_exporter": "python",
   "pygments_lexer": "ipython3",
   "version": "3.7.6"
  }
 },
 "nbformat": 4,
 "nbformat_minor": 2
}
