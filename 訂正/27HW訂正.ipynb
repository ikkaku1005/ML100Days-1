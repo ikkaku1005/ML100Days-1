{
 "cells": [
  {
   "cell_type": "markdown",
   "metadata": {
    "id": "H-z4L8J371GO"
   },
   "source": [
    "## 作業:\n",
    "今天學到不同統計量之間特性，  \n",
    "試著分析男生女生身高資料，  \n",
    "試著回答下面的問題:  \n",
    "Q1:試著用今天所教的內容，如何描述這兩組資料的樣態?    \n",
    "Q2: 請問男生和女生在平均身高上誰比較高?   \n",
    "Q3:請問第二題的答案和日常生活中觀察的一致嗎? 如果不一致，你覺得原因可能為何?    \n",
    "上述問題透過  python 語法進行運算，\n",
    "並將上述答案填寫在 (google 表單)[https://docs.google.com/forms/d/e/1FAIpQLSdDzwpeJl8YLPwZaW8pBZvtuXY9kIbbZLqxcXyzFaoraV5JEA/viewform ]\n",
    "![](作業資料圖檔.PNG)"
   ]
  },
  {
   "cell_type": "code",
   "execution_count": 2,
   "metadata": {
    "id": "yz28_IgkYdBW"
   },
   "outputs": [],
   "source": [
    "# library\n",
    "import matplotlib.pyplot as plt\n",
    "import numpy as np\n",
    "import pandas as pd\n",
    "from scipy import stats\n",
    "import math\n",
    "import statistics\n",
    "import seaborn as sns"
   ]
  },
  {
   "cell_type": "code",
   "execution_count": 3,
   "metadata": {
    "id": "3NtzuWtt71GU",
    "outputId": "be21c4eb-a6c2-4674-aadd-d378bafc0428"
   },
   "outputs": [],
   "source": [
    "## 輸入資料\n",
    "boys = [164,176,169,169,165,175,159,151,144,\n",
    "             160,183,165,156,170,164,173,165,177,171]\n",
    "girls= [169,183,170,168,182,170,173,185,151,\n",
    "              156,162,169,162,181,159,154,167,175,170,160]"
   ]
  },
  {
   "cell_type": "code",
   "execution_count": 4,
   "metadata": {
    "id": "uDM9AzrY71GW",
    "outputId": "f4e7ede3-fda9-4858-f122-af7c3b3f3ad4",
    "scrolled": true
   },
   "outputs": [
    {
     "name": "stdout",
     "output_type": "stream",
     "text": [
      "男孩身高平均= 166.10526315789474\n",
      "男孩身高平均= 166.10526315789474\n",
      "女孩平均身高 =  168.3\n",
      "女孩平均身高 = 168.3\n",
      "男孩身高的中位數=  165.0\n",
      "statistics_median_boy= 165\n",
      "女孩身高中位數 =  169.0\n",
      "女孩身高中位數 =  169.0\n",
      "男孩身高眾數= ModeResult(mode=array([165]), count=array([3]))\n",
      "男孩身高眾數= 165\n",
      "女孩身高眾數=  ModeResult(mode=array([170]), count=array([3]))\n",
      "女孩身高眾數= 170\n",
      "男孩身高眾數= 165\n",
      "女孩身高眾數= 170\n"
     ]
    }
   ],
   "source": [
    "#Q1:試著用今天所教的內容，如何描述這兩組資料的樣態?\n",
    "#暗示:  分別計算男生和女生的統計量\n",
    "mean_boy=np.mean(boys)\n",
    "print(\"男孩身高平均=\",mean_boy)\n",
    "statistics_mean_boy=statistics.mean(boys)\n",
    "print(\"男孩身高平均=\",statistics_mean_boy)\n",
    "mean_girl = np.mean(girls)\n",
    "print(\"女孩平均身高 = \", mean_girl)\n",
    "statistics_mean_girl = statistics.mean(girls)\n",
    "print(\"女孩平均身高 =\", statistics_mean_girl)\n",
    "\n",
    "# 計算統計量_中位數的方法            #axis = None，作全部維度內資料的運算，也可分別指定哪以個維度\n",
    "np_median_boy = np.median( boys, axis = None)  #axis = 0 or None  np.median  會預設為 0 \n",
    "print(\"男孩身高的中位數= \", np_median_boy)\n",
    "statistics_median_boy= statistics.median (boys)\n",
    "print(\"statistics_median_boy=\", statistics_median_boy)\n",
    "np_median_girl = np.median(girls, axis = None)\n",
    "print(\"女孩身高中位數 = \", np_median_girl)\n",
    "statistics_median_girl= statistics.median (girls)\n",
    "print(\"女孩身高中位數 = \", statistics_median_girl)\n",
    "\n",
    "# 統計量_眾數\n",
    "# 統計量的眾數，如果有多個眾數，取最小的值當眾數。\n",
    "mode_boy = stats.mode(boys, axis = None)  \n",
    "print(\"男孩身高眾數=\", mode_boy)  #mode_boy 會出現 obiect\n",
    "# 男孩身高眾數= ModeResult(mode=array([165]), count=array([3]))\n",
    "print(\"男孩身高眾數=\", mode_boy[0][0])  \n",
    "mode_girl = stats.mode(girls, axis = None)\n",
    "print(\"女孩身高眾數= \", mode_girl)\n",
    "print(\"女孩身高眾數=\", mode_girl[0][0]) \n",
    "\n",
    "# 統計量_眾數\n",
    "statistics_mode_boy = statistics.mode(boys)\n",
    "print(\"男孩身高眾數=\", statistics_mode_boy)  \n",
    "statistics_mode_girl = statistics.mode(girls)\n",
    "print(\"女孩身高眾數=\", statistics_mode_girl)"
   ]
  },
  {
   "cell_type": "code",
   "execution_count": 5,
   "metadata": {},
   "outputs": [
    {
     "name": "stdout",
     "output_type": "stream",
     "text": [
      "39\n",
      "34\n"
     ]
    }
   ],
   "source": [
    "def rangeV(x):\n",
    "    return(max(x)- min(x))\n",
    "print(rangeV(boys))\n",
    "print(rangeV(girls))"
   ]
  },
  {
   "cell_type": "code",
   "execution_count": 6,
   "metadata": {},
   "outputs": [
    {
     "name": "stdout",
     "output_type": "stream",
     "text": [
      "男孩身高變異數= 89.09941520467835\n",
      "男孩身高變異數= 89.09941520467837\n",
      "女孩身高變異數= 95.37894736842104\n",
      "女孩身高變異數= 95.37894736842105\n"
     ]
    }
   ],
   "source": [
    "#變異數\n",
    "np_variance_boy = np.var(boys, ddof = 1) #此函數預設為 n-1，將 df 預設為1\n",
    "print(\"男孩身高變異數=\",np_variance_boy)\n",
    "statistics_variance_boy = statistics.variance(boys)\n",
    "print(\"男孩身高變異數=\",statistics_variance_boy)\n",
    "np_variance_girl = np.var(girls, ddof = 1)\n",
    "print(\"女孩身高變異數=\",np_variance_girl)\n",
    "statistics_variance_girl = statistics.variance(girls)\n",
    "print(\"女孩身高變異數=\",statistics_variance_girl)"
   ]
  },
  {
   "cell_type": "code",
   "execution_count": 7,
   "metadata": {},
   "outputs": [
    {
     "name": "stdout",
     "output_type": "stream",
     "text": [
      "男孩身高標準差 9.439248656788227\n",
      "男孩身高標準差 9.439248656788228\n",
      "女孩身高標準差 9.766214587465353\n",
      "女孩身高標準差 9.766214587465353\n"
     ]
    }
   ],
   "source": [
    "#標準差\n",
    "std_boy = np.std(boys, ddof = 1)\n",
    "print(\"男孩身高標準差\", std_boy)\n",
    "statistics_stdev_boy = statistics.stdev(boys)\n",
    "print(\"男孩身高標準差\", statistics_stdev_boy )\n",
    "std_girl = np.std(girls, ddof = 1)\n",
    "print(\"女孩身高標準差\", std_girl)\n",
    "statistics_stdev_girl = statistics.stdev(girls)\n",
    "print(\"女孩身高標準差\", statistics_stdev_girl )"
   ]
  },
  {
   "cell_type": "code",
   "execution_count": 8,
   "metadata": {
    "scrolled": true
   },
   "outputs": [
    {
     "name": "stdout",
     "output_type": "stream",
     "text": [
      "90百分位數= 176.2\n",
      "50百分位數= 165.0\n",
      "20百分位數= 159.6\n",
      "20百分位數= 159.6\n",
      "90百分位數= 182.1\n",
      "50百分位數= 169.0\n",
      "20百分位數= 159.8\n",
      "20百分位數= 159.8\n"
     ]
    }
   ],
   "source": [
    "# python 百分位數\n",
    "\n",
    "#np\n",
    "print(\"90百分位數=\",np.percentile(boys, 90))\n",
    "print(\"50百分位數=\",np.percentile(boys, 50))\n",
    "print(\"20百分位數=\",np.percentile(boys, 20))\n",
    "#stat\n",
    "print(\"20百分位數=\",stats.scoreatpercentile(boys, 20))\n",
    "#np\n",
    "print(\"90百分位數=\",np.percentile(girls, 90))\n",
    "print(\"50百分位數=\",np.percentile(girls, 50))\n",
    "print(\"20百分位數=\",np.percentile(girls, 20))\n",
    "#stat\n",
    "print(\"20百分位數=\",stats.scoreatpercentile(girls, 20))"
   ]
  },
  {
   "cell_type": "code",
   "execution_count": 9,
   "metadata": {},
   "outputs": [
    {
     "name": "stdout",
     "output_type": "stream",
     "text": [
      "偏度 -0.5122894189746449\n",
      "峰度 0.10137857040306386\n",
      "偏度 0.05985321129365068\n",
      "峰度 -0.8203607083948947\n"
     ]
    }
   ],
   "source": [
    "#計算峰度和偏度\n",
    "print( \"偏度\" , stats.skew(boys))\n",
    "print( \"峰度\", stats.kurtosis(boys))\n",
    "# pandas和 stat 接近\n",
    "# python的峰帶\n",
    "\n",
    "print( \"偏度\" , stats.skew(girls))\n",
    "print( \"峰度\", stats.kurtosis(girls))"
   ]
  },
  {
   "cell_type": "code",
   "execution_count": 10,
   "metadata": {},
   "outputs": [
    {
     "data": {
      "image/png": "[encoded data removed]",
      "text/plain": [
       "<Figure size 432x288 with 1 Axes>"
      ]
     },
     "metadata": {
      "needs_background": "light"
     },
     "output_type": "display_data"
    },
    {
     "data": {
      "image/png": "[encoded data removed]",
      "text/plain": [
       "<Figure size 432x288 with 1 Axes>"
      ]
     },
     "metadata": {
      "needs_background": "light"
     },
     "output_type": "display_data"
    }
   ],
   "source": [
    "#最後，畫圖看分布            bins = 將連續變數切割的區間數，將(值域切割)\n",
    "plt.hist(boys, alpha = .4, bins = 40)\n",
    "plt.title('boy, skewness={0}, kurtosis={1}'.format( round(stats.skew(boys), 2), round(stats.kurtosis(boys),2)))\n",
    "plt.axvline( x=mean_boy )\n",
    "plt.show()\n",
    "\n",
    "#最後，畫圖看分布            bins = 將連續變數切割的區間數，將(值域切割)\n",
    "plt.hist(girls, alpha = .4, bins = 40)\n",
    "plt.title('girl, skewness={0}, kurtosis={1}'.format( round(stats.skew(girls), 2), round(stats.kurtosis(girls),2)))\n",
    "plt.axvline( x=mean_girl )\n",
    "plt.show()"
   ]
  },
  {
   "cell_type": "code",
   "execution_count": 11,
   "metadata": {},
   "outputs": [
    {
     "data": {
      "image/png": "[encoded data removed]",
      "text/plain": [
       "<Figure size 432x288 with 1 Axes>"
      ]
     },
     "metadata": {
      "needs_background": "light"
     },
     "output_type": "display_data"
    }
   ],
   "source": [
    "plt.hist(boys,alpha=.4)\n",
    "plt.hist(girls,color=sns.desaturate(\"indianred\", .8),alpha=.4)\n",
    "plt.title(\"all samples\")\n",
    "plt.axvline(x=mean_girl,color=sns.desaturate(\"indianred\", .8))\n",
    "plt.axvline(x=mean_boy)\n",
    "plt.show()"
   ]
  },
  {
   "cell_type": "code",
   "execution_count": 12,
   "metadata": {
    "id": "xH_GNsC271GW",
    "outputId": "f4b4c46a-0d8b-421c-9c70-0ebf2aab0e31"
   },
   "outputs": [
    {
     "name": "stdout",
     "output_type": "stream",
     "text": [
      "女孩身高較高\n"
     ]
    }
   ],
   "source": [
    "#Q2: 請問男生和女生在平均身高上誰比較高? \n",
    "print(\"女孩身高較高\")"
   ]
  },
  {
   "cell_type": "code",
   "execution_count": 13,
   "metadata": {
    "id": "xAzZU0Dv71GX",
    "outputId": "e2017c09-70fc-41ab-99c0-9d41fe21629d"
   },
   "outputs": [
    {
     "name": "stdout",
     "output_type": "stream",
     "text": [
      "不一致，有可能是取樣的關係造成某一些樣本的值較高或較低\n"
     ]
    }
   ],
   "source": [
    "#Q3:請問第二題的答案和日常生活中觀察的一致嗎? 如果不一致，你覺得原因可能為何? \n",
    "print(\"不一致，有可能是取樣的關係造成某一些樣本的值較高或較低\")"
   ]
  },
  {
   "cell_type": "code",
   "execution_count": null,
   "metadata": {},
   "outputs": [],
   "source": []
  }
 ],
 "metadata": {
  "colab": {
   "collapsed_sections": [],
   "name": "作業.ipynb",
   "provenance": []
  },
  "kernelspec": {
   "display_name": "Python 3",
   "language": "python",
   "name": "python3"
  },
  "language_info": {
   "codemirror_mode": {
    "name": "ipython",
    "version": 3
   },
   "file_extension": ".py",
   "mimetype": "text/x-python",
   "name": "python",
   "nbconvert_exporter": "python",
   "pygments_lexer": "ipython3",
   "version": "3.7.6"
  }
 },
 "nbformat": 4,
 "nbformat_minor": 1
}
