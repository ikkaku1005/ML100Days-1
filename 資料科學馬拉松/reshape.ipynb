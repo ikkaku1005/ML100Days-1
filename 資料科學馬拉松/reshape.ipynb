{
 "cells": [
  {
   "cell_type": "markdown",
   "metadata": {},
   "source": [
    "# 有關reshape"
   ]
  },
  {
   "cell_type": "code",
   "execution_count": 13,
   "metadata": {},
   "outputs": [
    {
     "name": "stdout",
     "output_type": "stream",
     "text": [
      "   0  1  2  3  4  5  6  7  8  9  10  11  12  13  14  15  16  17  18  19\n",
      "0  5  0  6  9  1  3  7  3  0  0   2   2   0   4   4   6   4   9   9   1\n"
     ]
    }
   ],
   "source": [
    "import pandas as pd\n",
    "import numpy as np\n",
    "df = pd.DataFrame(np.random.randint(0,10, 20).reshape(1, -1))\n",
    "# 當我們使用reshape(1,-1)時數據就會變成一列\n",
    "print(df)"
   ]
  },
  {
   "cell_type": "code",
   "execution_count": 14,
   "metadata": {},
   "outputs": [
    {
     "name": "stdout",
     "output_type": "stream",
     "text": [
      "    0\n",
      "0   1\n",
      "1   5\n",
      "2   5\n",
      "3   5\n",
      "4   0\n",
      "5   5\n",
      "6   1\n",
      "7   1\n",
      "8   8\n",
      "9   2\n",
      "10  8\n",
      "11  9\n",
      "12  8\n",
      "13  7\n",
      "14  6\n",
      "15  0\n",
      "16  5\n",
      "17  5\n",
      "18  1\n",
      "19  1\n"
     ]
    }
   ],
   "source": [
    "df = pd.DataFrame(np.random.randint(0,10, 20).reshape(-1,1 ))\n",
    "#使用reshape(-1,1)時數據就話變成一行\n",
    "print(df)"
   ]
  },
  {
   "cell_type": "code",
   "execution_count": 15,
   "metadata": {},
   "outputs": [
    {
     "name": "stdout",
     "output_type": "stream",
     "text": [
      "   0  1  2  3\n",
      "0  6  4  8  5\n",
      "1  2  2  5  2\n",
      "2  8  1  8  2\n",
      "3  8  6  4  6\n",
      "4  8  6  0  7\n"
     ]
    }
   ],
   "source": [
    "\n",
    "df = pd.DataFrame(np.random.randint(0,10, 20).reshape(-1, 4))\n",
    "print(df)"
   ]
  }
 ],
 "metadata": {
  "kernelspec": {
   "display_name": "Python 3",
   "language": "python",
   "name": "python3"
  },
  "language_info": {
   "codemirror_mode": {
    "name": "ipython",
    "version": 3
   },
   "file_extension": ".py",
   "mimetype": "text/x-python",
   "name": "python",
   "nbconvert_exporter": "python",
   "pygments_lexer": "ipython3",
   "version": "3.7.6"
  }
 },
 "nbformat": 4,
 "nbformat_minor": 4
}
