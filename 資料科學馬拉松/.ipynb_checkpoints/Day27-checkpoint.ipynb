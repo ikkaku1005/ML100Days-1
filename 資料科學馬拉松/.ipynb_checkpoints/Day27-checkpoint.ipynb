{
 "cells": [
  {
   "cell_type": "markdown",
   "metadata": {},
   "source": [
    "# 今天的範例，帶大家操作投影片中，如何描述所收集到資料男生身高的資料\n",
    "# 範例資料\n",
    "產出男生的身高資料"
   ]
  },
  {
   "cell_type": "code",
   "execution_count": 1,
   "metadata": {},
   "outputs": [],
   "source": [
    "# library\n",
    "import matplotlib.pyplot as plt\n",
    "import numpy as np\n",
    "import pandas as pd\n",
    "from scipy import stats\n",
    "import math\n",
    "import statistics\n",
    "  #list \n",
    "boys=[164, 176, 169, 169, 165, 175, 159, 151, 144, 160, 183, 165, 156, 170,\n",
    " 164, 173, 165, 163, 177, 171]"
   ]
  },
  {
   "cell_type": "markdown",
   "metadata": {},
   "source": [
    "# 集中趨勢"
   ]
  },
  {
   "cell_type": "code",
   "execution_count": 2,
   "metadata": {},
   "outputs": [
    {
     "name": "stdout",
     "output_type": "stream",
     "text": [
      "男孩身高平均= 165.95\n",
      "statistics_mean_boy= 165.95\n"
     ]
    }
   ],
   "source": [
    "# 計算統計量_平均數的方法\n",
    "mean_boy=np.mean(boys)\n",
    "print(\"男孩身高平均=\",mean_boy)\n",
    "\n",
    "statistics_mean_boy=statistics.mean(boys)\n",
    "print(\"statistics_mean_boy=\",statistics_mean_boy)"
   ]
  },
  {
   "cell_type": "code",
   "execution_count": 5,
   "metadata": {},
   "outputs": [
    {
     "name": "stdout",
     "output_type": "stream",
     "text": [
      "np_median_boy= 165.0\n",
      "statistics_median_boy= 165.0\n"
     ]
    }
   ],
   "source": [
    "# 計算統計量_中位數的方法            #axis = None，作全部維度內資料的運算，也可分別指定哪以個維度\n",
    "np_median_boy = np.median( boys, axis = None)  #axis = 0 or None  np.median  會預設為 0 \n",
    "print(\"np_median_boy=\", np_median_boy)\n",
    "\n",
    "statistics_median_boy= statistics.median (boys)\n",
    "print(\"statistics_median_boy=\", statistics_median_boy)\n"
   ]
  },
  {
   "cell_type": "code",
   "execution_count": 8,
   "metadata": {
    "scrolled": true
   },
   "outputs": [
    {
     "name": "stdout",
     "output_type": "stream",
     "text": [
      "男孩身高眾數= ModeResult(mode=array([165]), count=array([3]))\n",
      "男孩身高眾數= 165\n",
      "statistics_mode_boy= 165\n"
     ]
    }
   ],
   "source": [
    "# 統計量_眾數\n",
    "# 統計量的眾數，如果有多個眾數，取最小的值當眾數。\n",
    "mode_boy = stats.mode(boys, axis = None)  \n",
    "print(\"男孩身高眾數=\", mode_boy)  #mode_boy 會出現 obiect\n",
    "# 男孩身高眾數= ModeResult(mode=array([165]), count=array([3]))\n",
    "print(\"男孩身高眾數=\", mode_boy[0][0])  \n",
    "\n",
    "# 統計量_眾數\n",
    "statistics_mode_boy = statistics.mode(boys)\n",
    "print(\"statistics_mode_boy=\", statistics_mode_boy)  "
   ]
  },
  {
   "cell_type": "markdown",
   "metadata": {},
   "source": [
    "# 離散趨勢"
   ]
  },
  {
   "cell_type": "code",
   "execution_count": 10,
   "metadata": {},
   "outputs": [
    {
     "name": "stdout",
     "output_type": "stream",
     "text": [
      "39\n"
     ]
    }
   ],
   "source": [
    "#全距\n",
    "#rangeV=max(boys)-min(boys)\n",
    "def rangeV(x): \n",
    "    return(max(x) - min(x))\n",
    "print(rangeV(boys)) "
   ]
  },
  {
   "cell_type": "code",
   "execution_count": 11,
   "metadata": {},
   "outputs": [
    {
     "name": "stdout",
     "output_type": "stream",
     "text": [
      "男孩身高變異數= 84.89210526315789\n",
      "男孩身高變異數= 84.89210526315789\n"
     ]
    }
   ],
   "source": [
    "# 計算變異數的方法\n",
    "print(\"男孩身高變異數=\",statistics.variance(boys))  #此函數預設為 n-1，將 df 預設為1\n",
    "                                                   \n",
    "print(\"男孩身高變異數=\",np.var(boys, ddof= 1 ))  #ddof= 1 代表計算樣本為不偏估計，分母為  (n -ffof) = n-1"
   ]
  },
  {
   "cell_type": "code",
   "execution_count": 16,
   "metadata": {},
   "outputs": [
    {
     "name": "stdout",
     "output_type": "stream",
     "text": [
      "男孩身高標準差= 9.213691185575838\n",
      "statistics_mean_boy= 9.213691185575838\n",
      "True\n"
     ]
    }
   ],
   "source": [
    "# 統計量_標準差的方法\n",
    "#樣本標準差\n",
    "#ddof=1, 回傳 sample standard deviation 樣本標準差，分母(n-1)，無偏估計\n",
    "std_boy=np.std( boys, ddof=1 )\n",
    "print(\"男孩身高標準差=\", std_boy)\n",
    "\n",
    "statistics_stdev_boy = statistics.stdev(boys)\n",
    "print(\"statistics_mean_boy=\", statistics_stdev_boy )\n",
    "\n",
    "print(np.sqrt(np.var(boys, ddof = 1)) ==  std_boy)  "
   ]
  },
  {
   "cell_type": "code",
   "execution_count": 13,
   "metadata": {},
   "outputs": [
    {
     "name": "stdout",
     "output_type": "stream",
     "text": [
      "90百分位數= 176.1\n",
      "50百分位數= 165.0\n",
      "20百分位數= 159.8\n",
      "20百分位數= 159.8\n"
     ]
    }
   ],
   "source": [
    "# python 百分位數\n",
    "\n",
    "#np\n",
    "print(\"90百分位數=\",np.percentile(boys, 90))\n",
    "print(\"50百分位數=\",np.percentile(boys, 50))\n",
    "print(\"20百分位數=\",np.percentile(boys, 20))\n",
    "\n",
    "#stat\n",
    "print(\"20百分位數=\",stats.scoreatpercentile(boys, 20))"
   ]
  },
  {
   "cell_type": "markdown",
   "metadata": {},
   "source": [
    "# 分布型態\n",
    "1.skewness < 0 左偏態 skewness > 0 右偏態\n",
    "\n",
    "2.一班來說 , 常態分佈之 kurtosis = 3\n",
    "\n",
    "3.stats.kurtosis(fisher = True) 參數 fisher: default True \n",
    "\n",
    "4.fisher definition 即計算 excess kurtosis = original kurtosis - 3 (range from -2 to infinity )"
   ]
  },
  {
   "cell_type": "code",
   "execution_count": 17,
   "metadata": {},
   "outputs": [
    {
     "name": "stdout",
     "output_type": "stream",
     "text": [
      "偏度 -0.47132127317376954\n",
      "峰度 0.19395882957876331\n"
     ]
    }
   ],
   "source": [
    "#計算峰度和偏度\n",
    "print( \"偏度\" , stats.skew(boys))\n",
    "print( \"峰度\", stats.kurtosis(boys))\n",
    "\n",
    "# pandas和 stat 接近\n",
    "# python的峰帶"
   ]
  },
  {
   "cell_type": "code",
   "execution_count": 18,
   "metadata": {},
   "outputs": [
    {
     "data": {
      "image/png": "[encoded data removed]",
      "text/plain": [
       "<Figure size 432x288 with 1 Axes>"
      ]
     },
     "metadata": {
      "needs_background": "light"
     },
     "output_type": "display_data"
    }
   ],
   "source": [
    "#最後，畫圖看分布            bins = 將連續變數切割的區間數，將(值域切割)\n",
    "plt.hist(boys, alpha = .4, bins = 40)\n",
    "plt.title('boy, skewness={0}, kurtosis={1}'.format( round(stats.skew(boys), 2), round(stats.kurtosis(boys),2)))\n",
    "plt.axvline( x=mean_boy )\n",
    "plt.show()"
   ]
  },
  {
   "cell_type": "code",
   "execution_count": null,
   "metadata": {},
   "outputs": [],
   "source": []
  }
 ],
 "metadata": {
  "kernelspec": {
   "display_name": "Python 3",
   "language": "python",
   "name": "python3"
  },
  "language_info": {
   "codemirror_mode": {
    "name": "ipython",
    "version": 3
   },
   "file_extension": ".py",
   "mimetype": "text/x-python",
   "name": "python",
   "nbconvert_exporter": "python",
   "pygments_lexer": "ipython3",
   "version": "3.7.6"
  }
 },
 "nbformat": 4,
 "nbformat_minor": 4
}
