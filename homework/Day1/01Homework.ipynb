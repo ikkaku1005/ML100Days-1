{
 "cells": [
  {
   "cell_type": "markdown",
   "metadata": {
    "id": "P6xk2_jLsvFF"
   },
   "source": [
    "# [作業目標]\n",
    "\n",
    "1. [簡答題] 請問下列兩種將 Array 轉換成 List 的方式有何不同？\n",
    "\n",
    "```\n",
    "print('list(a): ', list(a))\n",
    "print('tolist(): ', a.tolist())\n",
    "```\n",
    "\n",
    "2. 請試著在程式中印出以下三個 NdArray 的屬性？（屬性：ndim、shape、size、dtype、itemsize、length、type）\n",
    "\n",
    "```\n",
    "a = np.random.randint(10, size=6) \n",
    "b = np.random.randint(10, size=(3,4)) \n",
    "c = np.random.randint(10, size=(2,3,2)) \n",
    "```\n",
    "\n",
    "3. 如何利用 list(...) 實現 a.tolist() 的效果？試著用程式實作。\n"
   ]
  },
  {
   "cell_type": "markdown",
   "metadata": {
    "id": "uXGll28asvFS"
   },
   "source": [
    "# 作業 "
   ]
  },
  {
   "cell_type": "markdown",
   "metadata": {
    "id": "SYkvkp9YLwB7"
   },
   "source": [
    "### 1. [簡答題] 請問下列兩種將 Array 轉換成 List 的方式有何不同？\n",
    "\n",
    "```\n",
    "print('list(a): ', list(a))\n",
    "print('tolist(): ', a.tolist())\n",
    "```\n"
   ]
  },
  {
   "cell_type": "code",
   "execution_count": 3,
   "metadata": {
    "id": "5QrYoyNWsvFS",
    "outputId": "13f374d0-6f1b-47aa-bbac-c7d1a8c6995c"
   },
   "outputs": [
    {
     "name": "stdout",
     "output_type": "stream",
     "text": [
      "list(a):  [array([0, 1, 2, 3, 4]), array([5, 6, 7, 8, 9]), array([10, 11, 12, 13, 14])]\n",
      "list 只能將第一層做轉換，在多層陣列中也是\n",
      "tolist(): [[0, 1, 2, 3, 4], [5, 6, 7, 8, 9], [10, 11, 12, 13, 14]]\n",
      "tolist能將各層元素轉換\n"
     ]
    }
   ],
   "source": [
    "import numpy as np\n",
    "a = np.arange(15).reshape(3,5)\n",
    "print('list(a): ', list(a))\n",
    "print(\"list 只能將第一層做轉換，在多層陣列中也是\")\n",
    "print(\"tolist():\",a.tolist())\n",
    "print(\"tolist能將各層元素轉換\")"
   ]
  },
  {
   "cell_type": "markdown",
   "metadata": {
    "id": "AC9wUCyALwB9"
   },
   "source": [
    "### 2. 請試著在程式中印出以下三個 NdArray 的屬性並且解釋結果？（屬性：ndim、shape、size、dtype、itemsize、length、type）\n",
    "\n",
    "```\n",
    "a = np.random.randint(10, size=6) \n",
    "b = np.random.randint(10, size=(3,4)) \n",
    "c = np.random.randint(10, size=(2,3,2)) \n",
    "```"
   ]
  },
  {
   "cell_type": "code",
   "execution_count": 11,
   "metadata": {
    "id": "4qARRsdtLwB-"
   },
   "outputs": [
    {
     "name": "stdout",
     "output_type": "stream",
     "text": [
      "[7 6 1 4 3 4]\n",
      "1 只有一個維度\n",
      "(6,) 每一個維度中只有6個元素\n",
      "6 陣列中只有6個元素\n",
      "int32\n"
     ]
    }
   ],
   "source": [
    "# 記得先 Import 正確的套件\n",
    "import numpy as np\n"
   ]
  },
  {
   "cell_type": "code",
   "execution_count": 24,
   "metadata": {
    "id": "e1gVI0tvsvFY",
    "outputId": "9be10770-9042-40c8-c4bc-217b84be9fc9"
   },
   "outputs": [
    {
     "name": "stdout",
     "output_type": "stream",
     "text": [
      "[7 3 7 0 6 4]\n",
      "1 只有一個維度\n",
      "(6,) 每一個維度中只有6個元素\n",
      "6 陣列中只有6個元素\n",
      "int32 資料型態為int32\n",
      "4 陣列中每個元素占用的空間為4\n",
      "6 陣列的長度為6\n",
      "<class 'numpy.ndarray'> 陣列類型：numpy.ndarray\n"
     ]
    }
   ],
   "source": [
    "\n",
    "a = np.random.randint(10, size=6) \n",
    "length = len(a)\n",
    "print(a)\n",
    "print(a.ndim,\"只有一個維度\")\n",
    "print(a.shape,\"每一個維度中只有6個元素\")\n",
    "print(a.size,\"陣列中只有6個元素\")\n",
    "print(a.dtype,\"資料型態為int32\") \n",
    "print(a.itemsize,\"陣列中每個元素占用的空間為4\")\n",
    "print(length,\"陣列的長度為6\")\n",
    "print(type(a),\"陣列類型：numpy.ndarray\")"
   ]
  },
  {
   "cell_type": "code",
   "execution_count": 26,
   "metadata": {
    "id": "iIJrIr7kLwB_",
    "outputId": "083c5519-394c-404e-9764-100c4ed5118a",
    "scrolled": true
   },
   "outputs": [
    {
     "name": "stdout",
     "output_type": "stream",
     "text": [
      "[[7 1 0 1]\n",
      " [5 9 4 8]\n",
      " [4 8 7 7]]\n",
      "2 有2個維度\n",
      "(3, 4) 每一個維度中有4個元素\n",
      "12 陣列中只有12個元素\n",
      "int32 資料型態為int32\n",
      "4 陣列中每個元素占用的空間為4\n",
      "3 陣列的長度為3\n",
      "<class 'numpy.ndarray'> 陣列類型：numpy.ndarray\n"
     ]
    }
   ],
   "source": [
    "b = np.random.randint(10, size=(3,4)) \n",
    "length = len(b)\n",
    "print(b)\n",
    "print(b.ndim,\"有2個維度\")\n",
    "print(b.shape,\"每一個維度中有4個元素\")\n",
    "print(b.size,\"陣列中只有12個元素\")\n",
    "print(b.dtype,\"資料型態為int32\") \n",
    "print(b.itemsize,\"陣列中每個元素占用的空間為4\")\n",
    "print(length,\"陣列的長度為3\")\n",
    "print(type(b),\"陣列類型：numpy.ndarray\")"
   ]
  },
  {
   "cell_type": "code",
   "execution_count": 3,
   "metadata": {
    "id": "98SRFh_FLwCC",
    "outputId": "dc65dfac-9ae6-49d2-f854-88eccebc2aac"
   },
   "outputs": [
    {
     "name": "stdout",
     "output_type": "stream",
     "text": [
      "[[[5 2]\n",
      "  [5 3]\n",
      "  [6 1]]\n",
      "\n",
      " [[6 6]\n",
      "  [2 4]\n",
      "  [0 3]]]\n",
      "3 有3個維度\n",
      "(2, 3, 2) 每一個維度中有2個元素\n",
      "12 陣列中只有12個元素\n",
      "int32 資料型態為int32\n",
      "4 陣列中每個元素占用的空間為4\n",
      "2 陣列的長度為2\n",
      "<class 'numpy.ndarray'> 陣列類型：numpy.ndarray\n"
     ]
    }
   ],
   "source": [
    "import numpy as np\n",
    "c = np.random.randint(10, size=(2,3,2)) \n",
    "length = len(c)\n",
    "print(c)\n",
    "print(c.ndim,\"有3個維度\")\n",
    "print(c.shape,\"每一個維度中有2個元素\")\n",
    "print(c.size,\"陣列中只有12個元素\")\n",
    "print(c.dtype,\"資料型態為int32\") \n",
    "print(c.itemsize,\"陣列中每個元素占用的空間為4\")\n",
    "print(length,\"陣列的長度為2\")\n",
    "print(type(c),\"陣列類型：numpy.ndarray\")"
   ]
  },
  {
   "cell_type": "markdown",
   "metadata": {
    "id": "Uf6zC0QZLwCE"
   },
   "source": [
    "### 3. 如何利用 list(...) 實現 a.tolist() 的效果？試著用程式實作。\n"
   ]
  },
  {
   "cell_type": "code",
   "execution_count": null,
   "metadata": {
    "id": "sCUzHu_BLwCF",
    "outputId": "ba9c8945-8efb-42b1-f978-2bbdda97accd"
   },
   "outputs": [
    {
     "name": "stdout",
     "output_type": "stream",
     "text": [
      "[7, 6, 7, 3, 7, 5]\n",
      "[7, 6, 7, 3, 7, 5]\n"
     ]
    }
   ],
   "source": [
    "a = np.random.randint(10, size=6) \n",
    "\n",
    "print(a.tolist())\n",
    "print(list(a))\n"
   ]
  },
  {
   "cell_type": "code",
   "execution_count": 60,
   "metadata": {
    "id": "IUkVtw8RLwCG",
    "outputId": "e39875a5-5ec7-431b-c12a-485acc167e44"
   },
   "outputs": [
    {
     "name": "stdout",
     "output_type": "stream",
     "text": [
      "[[3, 0, 4, 1], [4, 6, 9, 2], [0, 8, 5, 8]]\n",
      "[array([3, 0, 4, 1]), array([4, 6, 9, 2]), array([0, 8, 5, 8])]\n"
     ]
    }
   ],
   "source": [
    "b = np.random.randint(10, size=(3,4)) \n",
    "\n",
    "print(b.tolist())\n",
    "print(list(b))\n"
   ]
  },
  {
   "cell_type": "code",
   "execution_count": null,
   "metadata": {
    "id": "NPhF8_CqLwCG",
    "outputId": "51fab908-5bfd-415f-9584-92bb376648c8"
   },
   "outputs": [
    {
     "name": "stdout",
     "output_type": "stream",
     "text": [
      "[[[0, 4], [0, 1], [9, 5]], [[8, 7], [8, 2], [6, 0]]]\n",
      "[array([[0, 4],\n",
      "       [0, 1],\n",
      "       [9, 5]]), array([[8, 7],\n",
      "       [8, 2],\n",
      "       [6, 0]])]\n"
     ]
    }
   ],
   "source": [
    "c = np.random.randint(10, size=(2,3,2)) \n",
    "\n",
    "print(c.tolist())\n",
    "print(list(c))\n"
   ]
  },
  {
   "cell_type": "code",
   "execution_count": 1,
   "metadata": {
    "id": "3Hc8vQYtLwCH",
    "outputId": "1290bc93-84ca-4da4-eb1a-315da37afaff"
   },
   "outputs": [
    {
     "name": "stdout",
     "output_type": "stream",
     "text": [
      "[0 5 9 5 7 4]\n",
      "[[6 5 1 2]\n",
      " [0 4 0 5]\n",
      " [0 6 1 0]]\n",
      "[[[6 0]\n",
      "  [8 1]\n",
      "  [3 9]]\n",
      "\n",
      " [[0 4]\n",
      "  [4 2]\n",
      "  [9 8]]]\n"
     ]
    }
   ],
   "source": [
    "import numpy as np\n",
    "a = np.random.randint(10, size=6) \n",
    "b = np.random.randint(10, size=(3,4)) \n",
    "c = np.random.randint(10, size=(2,3,2))\n",
    "def tolist(iterable):\n",
    "    data = iterable[...,0:]\n",
    "   \n",
    "    print(data)\n",
    "tolist(a)\n",
    "tolist(b)\n",
    "tolist(c)\n",
    "\n",
    "\n",
    "\n",
    "\n",
    "    \n",
    "\n",
    "\n",
    "\n"
   ]
  },
  {
   "cell_type": "code",
   "execution_count": null,
   "metadata": {
    "id": "2lDVOwFpLwCJ",
    "outputId": "ddfa84e4-3d32-4a68-c250-f57b2f66d830"
   },
   "outputs": [],
   "source": []
  },
  {
   "cell_type": "code",
   "execution_count": null,
   "metadata": {
    "id": "tvqCpuFILwCK"
   },
   "outputs": [],
   "source": []
  },
  {
   "cell_type": "code",
   "execution_count": null,
   "metadata": {
    "id": "640whg6NLwCK"
   },
   "outputs": [],
   "source": []
  },
  {
   "cell_type": "code",
   "execution_count": null,
   "metadata": {},
   "outputs": [],
   "source": []
  },
  {
   "cell_type": "code",
   "execution_count": null,
   "metadata": {},
   "outputs": [],
   "source": []
  }
 ],
 "metadata": {
  "colab": {
   "name": "01Homework_維元.ipynb",
   "provenance": []
  },
  "kernelspec": {
   "display_name": "Python 3",
   "language": "python",
   "name": "python3"
  },
  "language_info": {
   "codemirror_mode": {
    "name": "ipython",
    "version": 3
   },
   "file_extension": ".py",
   "mimetype": "text/x-python",
   "name": "python",
   "nbconvert_exporter": "python",
   "pygments_lexer": "ipython3",
   "version": "3.7.6"
  }
 },
 "nbformat": 4,
 "nbformat_minor": 1
}
