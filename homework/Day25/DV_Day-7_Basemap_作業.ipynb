{
 "cells": [
  {
   "cell_type": "markdown",
   "metadata": {
    "colab_type": "text",
    "id": "rzNvDCK8NH-Q"
   },
   "source": [
    "# 目標: \n",
    " \n",
    " 安裝Basemap, 並且可以使用它繪製地理資訊. 這個教程中，我們將涉及地理繪圖module: Basemap。Basemap是Matplotlib的擴展.\n",
    "\n",
    "# 重點:\n",
    " Basemap 在地圖集上的擴展應用\n",
    " \n",
    "\n",
    "# 作業:\n",
    "\n",
    " 1. 更改 Projection 的設定繪製出地球儀圖形\n",
    " \n",
    " 當 \"projection\" 參數為“ortho\"時，所得圖位地球儀截面\n",
    " \n",
    " 當 \"projection\" 參數為“Mill\"時，所得平展位面\n",
    " \n",
    " \n",
    " 2. 查看 resolution / 經緯度座標的繪圖精細度\n",
    " \n",
    " "
   ]
  },
  {
   "cell_type": "code",
   "execution_count": 2,
   "metadata": {},
   "outputs": [
    {
     "name": "stderr",
     "output_type": "stream",
     "text": [
      "ERROR: Could not find a version that satisfies the requirement basemap (from versions: none)\n",
      "ERROR: No matching distribution found for basemap\n"
     ]
    }
   ],
   "source": [
    "!pip install basemap"
   ]
  },
  {
   "cell_type": "code",
   "execution_count": 1,
   "metadata": {},
   "outputs": [
    {
     "ename": "ModuleNotFoundError",
     "evalue": "No module named '_geoslib'",
     "output_type": "error",
     "traceback": [
      "\u001b[1;31m---------------------------------------------------------------------------\u001b[0m",
      "\u001b[1;31mModuleNotFoundError\u001b[0m                       Traceback (most recent call last)",
      "\u001b[1;32m<ipython-input-1-f4d1d800ecc1>\u001b[0m in \u001b[0;36m<module>\u001b[1;34m\u001b[0m\n\u001b[0;32m      1\u001b[0m \u001b[1;31m# 載入套件\u001b[0m\u001b[1;33m\u001b[0m\u001b[1;33m\u001b[0m\u001b[1;33m\u001b[0m\u001b[0m\n\u001b[1;32m----> 2\u001b[1;33m \u001b[1;32mfrom\u001b[0m \u001b[0mmpl_toolkits\u001b[0m\u001b[1;33m.\u001b[0m\u001b[0mbasemap\u001b[0m \u001b[1;32mimport\u001b[0m \u001b[0mBasemap\u001b[0m\u001b[1;33m\u001b[0m\u001b[1;33m\u001b[0m\u001b[0m\n\u001b[0m\u001b[0;32m      3\u001b[0m \u001b[1;32mimport\u001b[0m \u001b[0mmatplotlib\u001b[0m\u001b[1;33m.\u001b[0m\u001b[0mpyplot\u001b[0m \u001b[1;32mas\u001b[0m \u001b[0mplt\u001b[0m\u001b[1;33m\u001b[0m\u001b[1;33m\u001b[0m\u001b[0m\n\u001b[0;32m      4\u001b[0m \u001b[1;32mimport\u001b[0m \u001b[0mnumpy\u001b[0m \u001b[1;32mas\u001b[0m \u001b[0mnp\u001b[0m\u001b[1;33m\u001b[0m\u001b[1;33m\u001b[0m\u001b[0m\n",
      "\u001b[1;32mC:\\ProgramData\\Anaconda3\\lib\\site-packages\\mpl_toolkits\\basemap\\__init__.py\u001b[0m in \u001b[0;36m<module>\u001b[1;34m\u001b[0m\n\u001b[0;32m     39\u001b[0m \u001b[1;32mimport\u001b[0m \u001b[0mnumpy\u001b[0m \u001b[1;32mas\u001b[0m \u001b[0mnp\u001b[0m\u001b[1;33m\u001b[0m\u001b[1;33m\u001b[0m\u001b[0m\n\u001b[0;32m     40\u001b[0m \u001b[1;32mimport\u001b[0m \u001b[0mnumpy\u001b[0m\u001b[1;33m.\u001b[0m\u001b[0mma\u001b[0m \u001b[1;32mas\u001b[0m \u001b[0mma\u001b[0m\u001b[1;33m\u001b[0m\u001b[1;33m\u001b[0m\u001b[0m\n\u001b[1;32m---> 41\u001b[1;33m \u001b[1;32mimport\u001b[0m \u001b[0m_geoslib\u001b[0m\u001b[1;33m\u001b[0m\u001b[1;33m\u001b[0m\u001b[0m\n\u001b[0m\u001b[0;32m     42\u001b[0m \u001b[1;32mimport\u001b[0m \u001b[0mfunctools\u001b[0m\u001b[1;33m\u001b[0m\u001b[1;33m\u001b[0m\u001b[0m\n\u001b[0;32m     43\u001b[0m \u001b[1;33m\u001b[0m\u001b[0m\n",
      "\u001b[1;31mModuleNotFoundError\u001b[0m: No module named '_geoslib'"
     ]
    }
   ],
   "source": [
    "# 載入套件\n",
    "from mpl_toolkits.basemap import Basemap\n",
    "import matplotlib.pyplot as plt\n",
    "import numpy as np"
   ]
  },
  {
   "cell_type": "code",
   "execution_count": 2,
   "metadata": {},
   "outputs": [
    {
     "data": {
      "text/plain": [
       "'\\n#由此開始寫code \\n\\n#設定圖形大小\\nplt.figure(...)\\n\\n#設定投影型態\\nm=Basemap(....)\\n\\n#設定圖形顏色, 選用NASA 寶石藍輸出 \\nm.bluemarble()\\n\\n#秀圖\\nplt.show()\\n'"
      ]
     },
     "execution_count": 2,
     "metadata": {},
     "output_type": "execute_result"
    }
   ],
   "source": [
    "# 創建基本地圖。\n",
    "# 當 \"projection\" 參數為“ortho\"時，所得圖位地球儀截面\n",
    "'''\n",
    "#由此開始寫code \n",
    "\n",
    "#設定圖形大小\n",
    "plt.figure(...)\n",
    "\n",
    "#設定投影型態\n",
    "m=Basemap(....)\n",
    "\n",
    "#設定圖形顏色, 選用NASA 寶石藍輸出 \n",
    "m.bluemarble()\n",
    "\n",
    "#秀圖\n",
    "plt.show()\n",
    "'''"
   ]
  },
  {
   "cell_type": "code",
   "execution_count": 3,
   "metadata": {},
   "outputs": [
    {
     "data": {
      "text/plain": [
       "\"\\n由此開始寫code \\n\\n#設置Lambert保形底圖。\\n# width=12000000,height=9000000\\n#經緯度lat_1=45.,lat_2=55,lat_0=50,lon_0=-107\\n#set resolution = None跳過邊界數據集的處理\\n# projection='lcc'\\n\\nm = Basemap(....)\\n\\n#選用NASA 寶石藍輸出 \\nm.bluemarble()\\n\\n#秀圖\\nplt.show()\\n\""
      ]
     },
     "execution_count": 3,
     "metadata": {},
     "output_type": "execute_result"
    }
   ],
   "source": [
    "'''\n",
    "由此開始寫code \n",
    "\n",
    "#設置Lambert保形底圖。\n",
    "# width=12000000,height=9000000\n",
    "#經緯度lat_1=45.,lat_2=55,lat_0=50,lon_0=-107\n",
    "#set resolution = None跳過邊界數據集的處理\n",
    "# projection='lcc'\n",
    "\n",
    "m = Basemap(....)\n",
    "\n",
    "#選用NASA 寶石藍輸出 \n",
    "m.bluemarble()\n",
    "\n",
    "#秀圖\n",
    "plt.show()\n",
    "'''"
   ]
  },
  {
   "cell_type": "code",
   "execution_count": 4,
   "metadata": {},
   "outputs": [
    {
     "data": {
      "text/plain": [
       "'\\n由此開始寫code \\n#  \"projection\" 參數為“Mill\"\\n# 設定經緯座標\\n# 左下角的緯度 - llcrnrlat = -90,\\n# 左下角的經度 - llcrnrlon = -180,\\n# 右上角的緯度 - urcrnrlat = 90,\\n# 右上角的經度 -urcrnrlon = 180\\n\\n# 成圖設定resolution\\n\\nm = Basemap() # 成圖設定resolution \\n\\n#創建邊線\\nm.drawcoastlines()\\n#畫出國家，並使用線寬為2 的線條生成分界線。\\nm.drawcountries()\\n#畫出州界\\nm.drawstates(color=\\'b\\')\\n#畫出城市\\nm.drawcounties(color=\\'darkred\\')\\n\\nplt.title(\\'Basemap Tutorial\\')\\nplt.show()\\n\\n'"
      ]
     },
     "execution_count": 4,
     "metadata": {},
     "output_type": "execute_result"
    }
   ],
   "source": [
    "'''\n",
    "由此開始寫code \n",
    "#  \"projection\" 參數為“Mill\"\n",
    "# 設定經緯座標\n",
    "# 左下角的緯度 - llcrnrlat = -90,\n",
    "# 左下角的經度 - llcrnrlon = -180,\n",
    "# 右上角的緯度 - urcrnrlat = 90,\n",
    "# 右上角的經度 -urcrnrlon = 180\n",
    "\n",
    "# 成圖設定resolution\n",
    "\n",
    "m = Basemap() # 成圖設定resolution \n",
    "\n",
    "#創建邊線\n",
    "m.drawcoastlines()\n",
    "#畫出國家，並使用線寬為2 的線條生成分界線。\n",
    "m.drawcountries()\n",
    "#畫出州界\n",
    "m.drawstates(color='b')\n",
    "#畫出城市\n",
    "m.drawcounties(color='darkred')\n",
    "\n",
    "plt.title('Basemap Tutorial')\n",
    "plt.show()\n",
    "\n",
    "'''"
   ]
  },
  {
   "cell_type": "code",
   "execution_count": null,
   "metadata": {},
   "outputs": [],
   "source": []
  }
 ],
 "metadata": {
  "colab": {
   "collapsed_sections": [],
   "name": "Basemap.ipynb",
   "provenance": []
  },
  "kernelspec": {
   "display_name": "Python 3",
   "language": "python",
   "name": "python3"
  }
 },
 "nbformat": 4,
 "nbformat_minor": 1
}
