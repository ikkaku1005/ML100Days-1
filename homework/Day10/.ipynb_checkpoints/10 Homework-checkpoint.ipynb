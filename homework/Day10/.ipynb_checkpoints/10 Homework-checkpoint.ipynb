{
 "cells": [
  {
   "cell_type": "markdown",
   "metadata": {
    "colab_type": "text",
    "id": "P6xk2_jLsvFF"
   },
   "source": [
    "# [作業目標]\n",
    "\n",
    "1. [簡答題] 請問下列四種不同的 DataFrame 選取結果有什麼差異？\n",
    "\n",
    "```\n",
    "df.loc[ '2013-01-01', 'A'] \n",
    "df.loc[ '2013-01-01', ['A', 'B'] ] \n",
    "df.loc[ '2013-01-01':'2013-01-02', 'A' ] \n",
    "df.loc[ '2013-01-01':'2013-01-05', 'A':'C'] \n",
    "```\n",
    "\n",
    "\n",
    "2. 請根據提供的資料，選擇出下列的要求：\n",
    "\n",
    "```\n",
    "# - select the first 3 rows.\n",
    "# - select the odd rows. (index = 1, 3, 5)\n",
    "# - select the last 2 columns.\n",
    "# - select the even columns. (index = 0, 2, 4)\n",
    "```\n",
    "\n",
    "3. 請根據提供的資料，選擇出下列的要求：\n",
    "\n",
    "```\n",
    "# - 1. filtered by first column > 20?\n",
    "# - 2. filtered by first column + second column > 50\n",
    "# - 3. filtered by first column < 30 or second column > 30\n",
    "# - 4. filtered by total sum of row > 100\n",
    "```"
   ]
  },
  {
   "cell_type": "markdown",
   "metadata": {
    "colab_type": "text",
    "id": "uXGll28asvFS"
   },
   "source": [
    "# 作業 "
   ]
  },
  {
   "cell_type": "markdown",
   "metadata": {},
   "source": [
    "### 1. [簡答題] 請問下列四種不同的 DataFrame 選取結果有什麼差異？\n",
    "\n",
    "```\n",
    "df.loc[ '2013-01-01', 'A'] \n",
    "df.loc[ '2013-01-01', ['A', 'B'] ] \n",
    "df.loc[ '2013-01-01':'2013-01-02', 'A' ] \n",
    "df.loc[ '2013-01-01':'2013-01-05', 'A':'C'] \n",
    "```\n",
    "\n",
    "\n",
    "\n"
   ]
  },
  {
   "cell_type": "code",
   "execution_count": 2,
   "metadata": {
    "colab": {},
    "colab_type": "code",
    "id": "5QrYoyNWsvFS"
   },
   "outputs": [
    {
     "name": "stdout",
     "output_type": "stream",
     "text": [
      "df.loc[ '2013-01-01', 'A'] 選到2013-01-01列 ，A行的值，只有一筆資料\n",
      "df.loc[ '2013-01-01', ['A', 'B'] ] ,選到第2013-101-01 列，A和B行的值，兩筆資料\n",
      "df.loc[ '2013-01-01':'2013-01-02', 'A' ] ，選到2013-01-01和2013-01-02列， A行的值 \n",
      "df.loc[ '2013-01-01':'2013-01-05', 'A':'C'] ，選到2013-01-01至2013-01-05列， A到C行的值 \n"
     ]
    }
   ],
   "source": [
    "print(\"df.loc[ '2013-01-01', 'A'] 選到2013-01-01列 ，A行的值，只有一筆資料\")\n",
    "print(\"df.loc[ '2013-01-01', ['A', 'B'] ] ,選到第2013-101-01 列，A和B行的值，兩筆資料\")\n",
    "print(\"df.loc[ '2013-01-01':'2013-01-02', 'A' ] ，選到2013-01-01和2013-01-02列， A行的值 \")\n",
    "print(\"df.loc[ '2013-01-01':'2013-01-05', 'A':'C'] ，選到2013-01-01至2013-01-05列， A到C行的值 \")"
   ]
  },
  {
   "cell_type": "markdown",
   "metadata": {},
   "source": [
    "### 2. 請根據提供的資料，選擇出下列的要求：\n",
    "\n",
    "```\n",
    "# - select the first 3 rows.\n",
    "# - select the odd rows. (index = 1, 3, 5)\n",
    "# - select the last 2 columns.\n",
    "# - select the even columns. (index = 0, 2, 4)\n",
    "```\n"
   ]
  },
  {
   "cell_type": "code",
   "execution_count": 3,
   "metadata": {},
   "outputs": [],
   "source": [
    "# 記得先 Import 正確的套件\n",
    "import pandas as pd\n",
    "import numpy as np"
   ]
  },
  {
   "cell_type": "code",
   "execution_count": 4,
   "metadata": {
    "colab": {},
    "colab_type": "code",
    "id": "e1gVI0tvsvFY"
   },
   "outputs": [
    {
     "name": "stdout",
     "output_type": "stream",
     "text": [
      "       col1      col2      col3\n",
      "0  0.185458  0.618438  1.176694\n",
      "1  0.089338  0.588592  0.416001\n",
      "2  0.470458 -0.066482  1.425779\n",
      "       col1      col2      col3\n",
      "1  0.089338  0.588592  0.416001\n",
      "3  1.432685 -0.484616 -0.309483\n",
      "5  0.952785 -0.938682  0.351253\n",
      "       col2      col3\n",
      "0  0.618438  1.176694\n",
      "1  0.588592  0.416001\n",
      "2 -0.066482  1.425779\n",
      "3 -0.484616 -0.309483\n",
      "4 -0.536047 -0.507682\n",
      "5 -0.938682  0.351253\n",
      "       col1      col3\n",
      "0  0.185458  1.176694\n",
      "1  0.089338  0.416001\n",
      "2  0.470458  1.425779\n",
      "3  1.432685 -0.309483\n",
      "4 -0.139563 -0.507682\n",
      "5  0.952785  0.351253\n"
     ]
    }
   ],
   "source": [
    "df = pd.DataFrame(np.random.randn(6,3),columns=['col1','col2','col3'])\n",
    "print(df[0:3])\n",
    "print(df.iloc[[1,3,5],[0,1,2]])\n",
    "print(df.iloc[[0,1,2,3,4,5],[-2,-1]])\n",
    "print(df.iloc[[0,1,2,3,4,5],[0,2]])"
   ]
  },
  {
   "cell_type": "code",
   "execution_count": 5,
   "metadata": {},
   "outputs": [
    {
     "data": {
      "text/plain": [
       "'\\nYour Code\\n'"
      ]
     },
     "execution_count": 5,
     "metadata": {},
     "output_type": "execute_result"
    }
   ],
   "source": [
    "'''\n",
    "Your Code\n",
    "'''"
   ]
  },
  {
   "cell_type": "markdown",
   "metadata": {},
   "source": [
    "### 3. 請根據提供的資料，選擇出下列的要求：\n",
    "\n",
    "```\n",
    "# - 1. filtered by first column > 20?\n",
    "# - 2. filtered by first column + second column > 50\n",
    "# - 3. filtered by first column < 30 or second column > 30\n",
    "# - 4. filtered by total sum of row > 100\n",
    "```"
   ]
  },
  {
   "cell_type": "code",
   "execution_count": 6,
   "metadata": {},
   "outputs": [
    {
     "name": "stdout",
     "output_type": "stream",
     "text": [
      "     0   1   2   3\n",
      "0   25  20  31  14\n",
      "1   10  30  15  39\n",
      "2   17  13  30  21\n",
      "3   24  26  21  36\n",
      "4   30  15  38  23\n",
      "5   22  18  26  15\n",
      "6   19  33  18  37\n",
      "7   18  15  20  27\n",
      "8   10  15  23  13\n",
      "9   14  30  29  18\n",
      "10  20  32  35  17\n",
      "11  28  14  33  21\n",
      "12  16  34  17  34\n",
      "13  37  23  24  35\n",
      "14  38  31  32  31\n"
     ]
    }
   ],
   "source": [
    "df = pd.DataFrame(np.random.randint(10, 40, 60).reshape(-1, 4))\n",
    "print(df)"
   ]
  },
  {
   "cell_type": "code",
   "execution_count": 42,
   "metadata": {},
   "outputs": [
    {
     "name": "stdout",
     "output_type": "stream",
     "text": [
      "0      True\n",
      "1     False\n",
      "2     False\n",
      "3      True\n",
      "4      True\n",
      "5      True\n",
      "6     False\n",
      "7     False\n",
      "8     False\n",
      "9     False\n",
      "10    False\n",
      "11     True\n",
      "12    False\n",
      "13     True\n",
      "14     True\n",
      "Name: 0, dtype: bool\n",
      "        0      1\n",
      "0   False  False\n",
      "1   False  False\n",
      "2   False  False\n",
      "3   False  False\n",
      "4   False  False\n",
      "5   False  False\n",
      "6   False  False\n",
      "7   False  False\n",
      "8   False  False\n",
      "9   False  False\n",
      "10  False  False\n",
      "11  False  False\n",
      "12  False  False\n",
      "13  False  False\n",
      "14  False  False\n",
      "0      True\n",
      "1      True\n",
      "2      True\n",
      "3      True\n",
      "4     False\n",
      "5      True\n",
      "6      True\n",
      "7      True\n",
      "8      True\n",
      "9      True\n",
      "10     True\n",
      "11     True\n",
      "12     True\n",
      "13    False\n",
      "14     True\n",
      "dtype: bool\n"
     ]
    }
   ],
   "source": [
    "print(df[0] > 20)\n",
    "\n",
    "x = df[[0,1]]\n",
    "print(x> 50)\n",
    "\n",
    "y = df[0]<30 \n",
    "z = df[1] > 30\n",
    "print(y | z )\n"
   ]
  },
  {
   "cell_type": "code",
   "execution_count": 71,
   "metadata": {
    "scrolled": true
   },
   "outputs": [
    {
     "name": "stdout",
     "output_type": "stream",
     "text": [
      "False\n",
      "False\n",
      "False\n",
      "True\n",
      "True\n",
      "False\n",
      "True\n",
      "False\n",
      "False\n",
      "False\n",
      "True\n",
      "False\n",
      "True\n",
      "True\n",
      "True\n"
     ]
    }
   ],
   "source": [
    "c = []\n",
    "for i in range(15):\n",
    "    print(df.iloc[i].sum() >100)\n",
    "\n",
    "#    if a > 100:\n",
    "        \n",
    "#        b = df.iloc[i] \n",
    "#        data = pd.DataFrame()\n",
    "#        data = data.append(b)\n",
    "#        print(b)\n",
    "#        c = []\n",
    "#    d = c.append(b.name)\n",
    "#    print(d)\n",
    "        "
   ]
  },
  {
   "cell_type": "code",
   "execution_count": null,
   "metadata": {},
   "outputs": [],
   "source": []
  }
 ],
 "metadata": {
  "colab": {
   "name": "Day_023_HW.ipynb",
   "provenance": []
  },
  "kernelspec": {
   "display_name": "Python 3",
   "language": "python",
   "name": "python3"
  },
  "language_info": {
   "codemirror_mode": {
    "name": "ipython",
    "version": 3
   },
   "file_extension": ".py",
   "mimetype": "text/x-python",
   "name": "python",
   "nbconvert_exporter": "python",
   "pygments_lexer": "ipython3",
   "version": "3.7.6"
  }
 },
 "nbformat": 4,
 "nbformat_minor": 1
}
