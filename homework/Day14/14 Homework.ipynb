{
 "cells": [
  {
   "cell_type": "markdown",
   "metadata": {
    "colab_type": "text",
    "id": "P6xk2_jLsvFF"
   },
   "source": [
    "# [作業目標]\n",
    "\n",
    "\n",
    "1. [簡答題] 比較下列兩個讀入的 df 有什麼不同？為什麼造成的？\n",
    "\n",
    "2. 請將 Dcard API 取得所有的看板資訊轉換成 DataFrame，並且依照熱門程度排序後存成一個 csv 的檔案。\n",
    "\n",
    "\n"
   ]
  },
  {
   "cell_type": "markdown",
   "metadata": {
    "colab_type": "text",
    "id": "uXGll28asvFS"
   },
   "source": [
    "# 作業 "
   ]
  },
  {
   "cell_type": "code",
   "execution_count": 4,
   "metadata": {},
   "outputs": [],
   "source": [
    "# 記得先 Import 正確的套件\n",
    "\n",
    "import pandas as pd\n",
    "import numpy as np\n"
   ]
  },
  {
   "cell_type": "markdown",
   "metadata": {},
   "source": [
    "### 1. [簡答題] 比較下列兩個讀入的 df 有什麼不同？為什麼造成的？\n"
   ]
  },
  {
   "cell_type": "code",
   "execution_count": 5,
   "metadata": {
    "colab": {},
    "colab_type": "code",
    "id": "5QrYoyNWsvFS"
   },
   "outputs": [
    {
     "name": "stdout",
     "output_type": "stream",
     "text": [
      "           PID  ST_NUM     ST_NAME OWN_OCCUPIED NUM_BEDROOMS NUM_BATH SQ_FT\n",
      "0  100001000.0   104.0      PUTNAM            Y            3        1  1000\n",
      "1  100002000.0   197.0   LEXINGTON            N            3      1.5    --\n",
      "2  100003000.0     NaN   LEXINGTON            N          NaN        1   850\n",
      "3  100004000.0   201.0    BERKELEY           12            1      NaN   700\n",
      "4          NaN   203.0    BERKELEY            Y            3        2  1600\n",
      "5  100006000.0   207.0    BERKELEY            Y          NaN        1   800\n",
      "6  100007000.0     NaN  WASHINGTON          NaN            2   HURLEY   950\n",
      "7  100008000.0   213.0     TREMONT            Y            1        1   NaN\n",
      "8  100009000.0   215.0     TREMONT            Y           na        2  1800\n"
     ]
    }
   ],
   "source": [
    "df1 = pd.read_csv('https://raw.githubusercontent.com/dataoptimal/posts/master/data%20cleaning%20with%20python%20and%20pandas/property%20data.csv')\n",
    "print(df1)"
   ]
  },
  {
   "cell_type": "code",
   "execution_count": 6,
   "metadata": {},
   "outputs": [
    {
     "name": "stdout",
     "output_type": "stream",
     "text": [
      "           PID  ST_NUM     ST_NAME OWN_OCCUPIED  NUM_BEDROOMS NUM_BATH   SQ_FT\n",
      "0  100001000.0   104.0      PUTNAM            Y           3.0        1  1000.0\n",
      "1  100002000.0   197.0   LEXINGTON            N           3.0      1.5     NaN\n",
      "2  100003000.0     NaN   LEXINGTON            N           NaN        1   850.0\n",
      "3  100004000.0   201.0    BERKELEY           12           1.0      NaN   700.0\n",
      "4          NaN   203.0    BERKELEY            Y           3.0        2  1600.0\n",
      "5  100006000.0   207.0    BERKELEY            Y           NaN        1   800.0\n",
      "6  100007000.0     NaN  WASHINGTON          NaN           2.0   HURLEY   950.0\n",
      "7  100008000.0   213.0     TREMONT            Y           1.0        1     NaN\n",
      "8  100009000.0   215.0     TREMONT            Y           NaN        2  1800.0\n"
     ]
    }
   ],
   "source": [
    "df2 = pd.read_csv(\n",
    "    'https://raw.githubusercontent.com/dataoptimal/posts/master/data%20cleaning%20with%20python%20and%20pandas/property%20data.csv',\n",
    "    keep_default_na=True,\n",
    "    na_values=['na', '--']\n",
    ")\n",
    "print(df2)"
   ]
  },
  {
   "cell_type": "code",
   "execution_count": 17,
   "metadata": {},
   "outputs": [
    {
     "name": "stdout",
     "output_type": "stream",
     "text": [
      "兩者的差別在空白質上的呈現方式有差異，第二的dataframe用NaN來代替原本的na、--\n"
     ]
    }
   ],
   "source": [
    "print(\"兩者的差別在空白質上的呈現方式有差異，第二的dataframe用NaN來代替原本的na、--\")"
   ]
  },
  {
   "cell_type": "markdown",
   "metadata": {},
   "source": [
    "### 2. 請將 Dcard API 取得所有的看板資訊轉換成 DataFrame，並且依照熱門程度排序後存成一個 csv 的檔案。\n"
   ]
  },
  {
   "cell_type": "code",
   "execution_count": 18,
   "metadata": {},
   "outputs": [],
   "source": [
    "import requests\n",
    "r = requests.get('https://www.dcard.tw/_api/forums')\n",
    "response = r.text\n",
    "\n",
    "import json\n",
    "data = json.loads(response)\n",
    "\n",
    "#print(data)\n"
   ]
  },
  {
   "cell_type": "code",
   "execution_count": 19,
   "metadata": {},
   "outputs": [
    {
     "name": "stdout",
     "output_type": "stream",
     "text": [
      "     Unnamed: 0                                    id         alias  \\\n",
      "0           373  1ce3ebca-8701-42d5-b14c-076fc629bc8e           sex   \n",
      "1           228  42851318-b9e2-4a75-8a05-9fe180becefe  relationship   \n",
      "2           224  be1a095b-175e-4523-9e06-66a05d939676       dressup   \n",
      "3           217  cbd5285f-3cba-4bfc-86d0-1ab52d201459        makeup   \n",
      "4           233  06e07db4-c8b5-4dae-851f-e8a8236e770c          meme   \n",
      "..          ...                                   ...           ...   \n",
      "512         182  9ffbd450-4416-4023-87ef-81b38703a224    hkmacdaily   \n",
      "513         172  9e2ea80f-3342-4533-bb7a-d639e6c517e7       athlete   \n",
      "514         207  019f0994-375e-479a-9b08-1b8addb64cc3      hkbeauty   \n",
      "515         208  1150ae79-6e67-46f2-bfec-74f8c365a4a1    hktrending   \n",
      "516         209  36443e19-9334-42f4-b91e-95e601150f61         hkacg   \n",
      "\n",
      "          name                                        description  \\\n",
      "0           西斯  西斯板（Sex）提供男女私密話題分享或性教育等情慾議題討論，若有性方面相關問題也可在此發問。...   \n",
      "1           感情  無論是遠距離戀愛、情侶間的有趣互動、分手後的藕斷絲連等...都可以在感情板分享你們的愛情故事...   \n",
      "2           穿搭  穿搭板提供各種服裝搭配、包鞋、飾品配件等相關話題討論。\\n歡迎分享自己的日常穿搭，或任何潮流...   \n",
      "3           美妝  不管你喜歡開架彩妝還是專櫃彩妝，美妝板提供各種最新彩妝開箱評比、粉底色號、唇膏試色、眼影試色...   \n",
      "4           梗圖                                            梗圖=有梗的圖   \n",
      "..         ...                                                ...   \n",
      "512       港澳日常          專屬於香港澳門o既討論區，日常生活大小事都可以係度傾～發文請注意需超過15個中文字   \n",
      "513         選手                                                NaN   \n",
      "514  港澳 Beauty    呢度係比香港澳門嘅同學仔討論化妝、護膚、美髮、任何扮靚相關話題嘅討論區，發文留言前請先閱讀板規   \n",
      "515       港澳時事           呢度係比香港澳門嘅同學仔討論同港澳有關既時事議題嘅討論區，發文留言前請先閱讀板規   \n",
      "516     港澳 ACG           呢度係比香港澳門既同學仔討論同分享各種動漫、遊戲嘅討論區，發文留言前請先閱讀板規   \n",
      "\n",
      "     subscriptionCount  subscribed   read                 createdAt  \\\n",
      "0               613664       False  False  2020-02-04T07:52:53.573Z   \n",
      "1               555298       False  False  2020-02-04T07:28:43.573Z   \n",
      "2               540031       False  False  2020-02-04T07:28:03.573Z   \n",
      "3               454432       False  False  2020-02-04T07:26:53.573Z   \n",
      "4               429489       False  False  2020-02-04T07:29:33.573Z   \n",
      "..                 ...         ...    ...                       ...   \n",
      "512                  0       False  False  2018-10-03T03:41:18.556Z   \n",
      "513                  0       False  False  2017-08-22T05:22:03.772Z   \n",
      "514                  0       False  False  2020-01-02T03:21:28.406Z   \n",
      "515                  0       False  False  2020-01-02T03:22:36.962Z   \n",
      "516                  0       False  False  2020-01-02T03:23:17.450Z   \n",
      "\n",
      "                    updatedAt  ...   nsfw  \\\n",
      "0    2021-06-24T04:50:12.522Z  ...   True   \n",
      "1    2021-04-20T08:36:40.391Z  ...  False   \n",
      "2    2021-07-30T07:16:16.188Z  ...  False   \n",
      "3    2021-06-25T07:07:20.485Z  ...  False   \n",
      "4    2020-08-31T09:47:51.769Z  ...  False   \n",
      "..                        ...  ...    ...   \n",
      "512  2021-07-16T07:05:15.714Z  ...  False   \n",
      "513  2020-08-13T06:02:20.625Z  ...  False   \n",
      "514  2021-07-23T11:09:49.210Z  ...  False   \n",
      "515  2021-07-23T11:07:17.530Z  ...  False   \n",
      "516  2021-07-23T11:09:33.256Z  ...  False   \n",
      "\n",
      "                             mediaThreshold  limitCountries  limitStage  \\\n",
      "0    {'RACY': 1, 'ADULT': 1, 'VIOLENCE': 1}              []           0   \n",
      "1                                        {}              []           0   \n",
      "2                                        {}              []           0   \n",
      "3                                        {}              []           0   \n",
      "4                                        {}              []           0   \n",
      "..                                      ...             ...         ...   \n",
      "512                                      {}    ['HK', 'MO']           0   \n",
      "513                                      {}              []           0   \n",
      "514                                      {}    ['HK', 'MO']           0   \n",
      "515                                      {}    ['HK', 'MO']           0   \n",
      "516                                      {}    ['HK', 'MO']           0   \n",
      "\n",
      "                          availableLayouts              postCount favorite  \\\n",
      "0                              ['classic']   {'last30Days': 5753}    False   \n",
      "1                              ['classic']  {'last30Days': 11012}    False   \n",
      "2                      ['classic', 'link']   {'last30Days': 1420}    False   \n",
      "3                              ['classic']   {'last30Days': 3379}    False   \n",
      "4                                ['image']   {'last30Days': 2665}    False   \n",
      "..                                     ...                    ...      ...   \n",
      "512  ['classic', 'image', 'video', 'link']    {'last30Days': 520}    False   \n",
      "513                    ['classic', 'link']      {'last30Days': 1}    False   \n",
      "514  ['classic', 'image', 'video', 'link']     {'last30Days': 51}    False   \n",
      "515  ['classic', 'image', 'video', 'link']     {'last30Days': 68}    False   \n",
      "516  ['classic', 'image', 'video', 'link']     {'last30Days': 35}    False   \n",
      "\n",
      "     enablePrivateMessage                                          heroImage  \\\n",
      "0                   False  {'url': 'https://megapx-assets.dcard.tw/images...   \n",
      "1                   False  {'url': 'https://megapx-assets.dcard.tw/images...   \n",
      "2                    True  {'url': 'https://megapx-assets.dcard.tw/images...   \n",
      "3                   False  {'url': 'https://megapx-assets.dcard.tw/images...   \n",
      "4                   False  {'url': 'https://megapx-assets.dcard.tw/images...   \n",
      "..                    ...                                                ...   \n",
      "512                 False  {'url': 'https://megapx-assets.dcard.tw/images...   \n",
      "513                 False                                                NaN   \n",
      "514                 False  {'url': 'https://megapx-assets.dcard.tw/images...   \n",
      "515                 False  {'url': 'https://megapx-assets.dcard.tw/images...   \n",
      "516                  True  {'url': 'https://megapx-assets.dcard.tw/images...   \n",
      "\n",
      "                                                  logo  \n",
      "0    {'url': 'https://megapx-assets.dcard.tw/images...  \n",
      "1    {'url': 'https://megapx-assets.dcard.tw/images...  \n",
      "2    {'url': 'https://megapx-assets.dcard.tw/images...  \n",
      "3    {'url': 'https://megapx-assets.dcard.tw/images...  \n",
      "4    {'url': 'https://megapx-assets.dcard.tw/images...  \n",
      "..                                                 ...  \n",
      "512  {'url': 'https://megapx-assets.dcard.tw/images...  \n",
      "513                                                NaN  \n",
      "514  {'url': 'https://megapx-assets.dcard.tw/images...  \n",
      "515  {'url': 'https://megapx-assets.dcard.tw/images...  \n",
      "516  {'url': 'https://megapx-assets.dcard.tw/images...  \n",
      "\n",
      "[517 rows x 35 columns]\n"
     ]
    }
   ],
   "source": [
    "df = pd.DataFrame(data)\n",
    "df = df.sort_values(by = 'subscriptionCount', ascending = False)\n",
    "df.to_csv('Dcard.csv')\n",
    "print(pd.read_csv('Dcard.csv'))"
   ]
  },
  {
   "cell_type": "code",
   "execution_count": null,
   "metadata": {},
   "outputs": [],
   "source": []
  },
  {
   "cell_type": "code",
   "execution_count": null,
   "metadata": {},
   "outputs": [],
   "source": []
  },
  {
   "cell_type": "code",
   "execution_count": null,
   "metadata": {},
   "outputs": [],
   "source": []
  },
  {
   "cell_type": "code",
   "execution_count": null,
   "metadata": {},
   "outputs": [],
   "source": []
  }
 ],
 "metadata": {
  "colab": {
   "name": "Day_023_HW.ipynb",
   "provenance": []
  },
  "kernelspec": {
   "display_name": "Python 3",
   "language": "python",
   "name": "python3"
  },
  "language_info": {
   "codemirror_mode": {
    "name": "ipython",
    "version": 3
   },
   "file_extension": ".py",
   "mimetype": "text/x-python",
   "name": "python",
   "nbconvert_exporter": "python",
   "pygments_lexer": "ipython3",
   "version": "3.7.6"
  }
 },
 "nbformat": 4,
 "nbformat_minor": 1
}
