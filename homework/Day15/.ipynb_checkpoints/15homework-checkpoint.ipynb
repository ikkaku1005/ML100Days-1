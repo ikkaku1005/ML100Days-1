{
 "cells": [
  {
   "cell_type": "markdown",
   "metadata": {
    "id": "i9iZ2230aW84"
   },
   "source": [
    "作業目標:<br>\n",
    "1. 熟悉索引與欄位設定\n",
    "2. 使用樞紐建立新資料"
   ]
  },
  {
   "cell_type": "markdown",
   "metadata": {
    "id": "VhzIqUcIY99e"
   },
   "source": [
    "作業重點:<br>\n",
    "1. 多維度索引、欄位是有順序性的須注意\n",
    "2. 使用樞紐建立資料需要注意參數<br>\n",
    "  index : 新資料的索引名稱<br>\n",
    "  columns : 新資料的欄位名稱<br>\n",
    "  values :新資料的值名稱\n"
   ]
  },
  {
   "cell_type": "markdown",
   "metadata": {
    "id": "lqcrvsyOaaaR"
   },
   "source": [
    "題目: 運用下列分數資料重新建構資料，將索引(index)依序改為sex、class、student_id，欄位依序改成chinese_score、english_score、math_score<br><br>\n",
    "score_df = pd.DataFrame([[1,50,80,70,'boy',1],[2,60,45,50,'boy',2],[3,98,43,55,'boy',1],[4,70,69,89,'boy',2],[5,56,79,60,'girl',1],[6,60,68,55,'girl',2],[7,45,70,77,'girl',1],[8,55,77,76,'girl',2],[9,25,57,60,'girl',1],[10,88,40,43,'girl',3],[11,25,60,45,'boy',3],[12,80,60,23,'boy',3],[13,20,90,66,'girl',3],[14,50,50,50,'girl',3],[15,89,67,77,'girl',3]],columns=['student_id','math_score','english_score','chinese_score','sex','class'])\n"
   ]
  },
  {
   "cell_type": "code",
   "execution_count": 1,
   "metadata": {
    "id": "GJVSUJ4zaZTj"
   },
   "outputs": [],
   "source": [
    "import pandas as pd\n",
    "import numpy as np\n",
    "score_df = pd.DataFrame([[1,50,80,70,'boy',1],[2,60,45,50,'boy',2],[3,98,43,55,'boy',1],[4,70,69,89,'boy',2],[5,56,79,60,'girl',1],[6,60,68,55,'girl',2],[7,45,70,77,'girl',1],[8,55,77,76,'girl',2],[9,25,57,60,'girl',1],[10,88,40,43,'girl',3],[11,25,60,45,'boy',3],[12,80,60,23,'boy',3],[13,20,90,66,'girl',3],[14,50,50,50,'girl',3],[15,89,67,77,'girl',3]],columns=['student_id','math_score','english_score','chinese_score','sex','class'])"
   ]
  },
  {
   "cell_type": "code",
   "execution_count": 26,
   "metadata": {},
   "outputs": [
    {
     "name": "stdout",
     "output_type": "stream",
     "text": [
      "    student_id  math_score  english_score  chinese_score   sex  class\n",
      "0            1          50             80             70   boy      1\n",
      "1            2          60             45             50   boy      2\n",
      "2            3          98             43             55   boy      1\n",
      "3            4          70             69             89   boy      2\n",
      "4            5          56             79             60  girl      1\n",
      "5            6          60             68             55  girl      2\n",
      "6            7          45             70             77  girl      1\n",
      "7            8          55             77             76  girl      2\n",
      "8            9          25             57             60  girl      1\n",
      "9           10          88             40             43  girl      3\n",
      "10          11          25             60             45   boy      3\n",
      "11          12          80             60             23   boy      3\n",
      "12          13          20             90             66  girl      3\n",
      "13          14          50             50             50  girl      3\n",
      "14          15          89             67             77  girl      3\n"
     ]
    }
   ],
   "source": [
    "print(score_df)"
   ]
  },
  {
   "cell_type": "code",
   "execution_count": 27,
   "metadata": {
    "id": "sXolLlu6a_8F"
   },
   "outputs": [],
   "source": [
    "#將索引(index)依序改為sex、class、student_id，欄位依序改成chinese_score、english_score、math_score"
   ]
  },
  {
   "cell_type": "code",
   "execution_count": 29,
   "metadata": {
    "id": "6005fVVybA_9"
   },
   "outputs": [
    {
     "name": "stdout",
     "output_type": "stream",
     "text": [
      "    chinese_score  english_score  math_score    variable value\n",
      "0              70             80          50  student_id     1\n",
      "1              50             45          60  student_id     2\n",
      "2              55             43          98  student_id     3\n",
      "3              89             69          70  student_id     4\n",
      "4              60             79          56  student_id     5\n",
      "5              55             68          60  student_id     6\n",
      "6              77             70          45  student_id     7\n",
      "7              76             77          55  student_id     8\n",
      "8              60             57          25  student_id     9\n",
      "9              43             40          88  student_id    10\n",
      "10             45             60          25  student_id    11\n",
      "11             23             60          80  student_id    12\n",
      "12             66             90          20  student_id    13\n",
      "13             50             50          50  student_id    14\n",
      "14             77             67          89  student_id    15\n",
      "15             70             80          50         sex   boy\n",
      "16             50             45          60         sex   boy\n",
      "17             55             43          98         sex   boy\n",
      "18             89             69          70         sex   boy\n",
      "19             60             79          56         sex  girl\n",
      "20             55             68          60         sex  girl\n",
      "21             77             70          45         sex  girl\n",
      "22             76             77          55         sex  girl\n",
      "23             60             57          25         sex  girl\n",
      "24             43             40          88         sex  girl\n",
      "25             45             60          25         sex   boy\n",
      "26             23             60          80         sex   boy\n",
      "27             66             90          20         sex  girl\n",
      "28             50             50          50         sex  girl\n",
      "29             77             67          89         sex  girl\n",
      "30             70             80          50       class     1\n",
      "31             50             45          60       class     2\n",
      "32             55             43          98       class     1\n",
      "33             89             69          70       class     2\n",
      "34             60             79          56       class     1\n",
      "35             55             68          60       class     2\n",
      "36             77             70          45       class     1\n",
      "37             76             77          55       class     2\n",
      "38             60             57          25       class     1\n",
      "39             43             40          88       class     3\n",
      "40             45             60          25       class     3\n",
      "41             23             60          80       class     3\n",
      "42             66             90          20       class     3\n",
      "43             50             50          50       class     3\n",
      "44             77             67          89       class     3\n"
     ]
    }
   ],
   "source": [
    "print(score_df.melt(id_vars =['chinese_score','english_score','math_score']))"
   ]
  },
  {
   "cell_type": "code",
   "execution_count": null,
   "metadata": {},
   "outputs": [],
   "source": []
  },
  {
   "cell_type": "code",
   "execution_count": null,
   "metadata": {},
   "outputs": [],
   "source": []
  }
 ],
 "metadata": {
  "colab": {
   "collapsed_sections": [],
   "name": "作業題目.ipynb",
   "provenance": []
  },
  "kernelspec": {
   "display_name": "Python 3",
   "language": "python",
   "name": "python3"
  },
  "language_info": {
   "codemirror_mode": {
    "name": "ipython",
    "version": 3
   },
   "file_extension": ".py",
   "mimetype": "text/x-python",
   "name": "python",
   "nbconvert_exporter": "python",
   "pygments_lexer": "ipython3",
   "version": "3.7.6"
  }
 },
 "nbformat": 4,
 "nbformat_minor": 1
}
