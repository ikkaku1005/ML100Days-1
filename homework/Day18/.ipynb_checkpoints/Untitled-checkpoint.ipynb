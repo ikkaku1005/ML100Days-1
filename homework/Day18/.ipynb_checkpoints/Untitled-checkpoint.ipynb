{
 "cells": [
  {
   "cell_type": "code",
   "execution_count": 3,
   "metadata": {},
   "outputs": [],
   "source": [
    "## 作業⽬標：\n",
    "#了解效能優化⽅法\n",
    "\n",
    "##作業重點：\n",
    "##優化有很多⾯相可以切入，⽬前可以先以投影片⽅法為主\n"
   ]
  },
  {
   "cell_type": "code",
   "execution_count": null,
   "metadata": {},
   "outputs": [],
   "source": [
    "#作業題⽬\n",
    "#1. 在速度較慢的時候，可以先從哪邊開始檢查？\n",
    "print(\"先從資料的型態開始，資料型態為 pkl 的檔案讀取最快\")\n",
    "\n",
    "#2. 資料過⼤時應採取什麼⽅式讓記憶體占⽤量下降？\n",
    "print(\"將整數型態int改成unit、浮點數型態float64改成float32以減少空間\")"
   ]
  }
 ],
 "metadata": {
  "kernelspec": {
   "display_name": "Python 3",
   "language": "python",
   "name": "python3"
  },
  "language_info": {
   "codemirror_mode": {
    "name": "ipython",
    "version": 3
   },
   "file_extension": ".py",
   "mimetype": "text/x-python",
   "name": "python",
   "nbconvert_exporter": "python",
   "pygments_lexer": "ipython3",
   "version": "3.7.6"
  }
 },
 "nbformat": 4,
 "nbformat_minor": 4
}
